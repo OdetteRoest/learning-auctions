{
 "cells": [
  {
   "cell_type": "markdown",
   "metadata": {},
   "source": [
    "# Learning Virtual Values\n",
    "\n",
    "In this tutorial, we will extend the ideas from the [previous tutorial](learning-position-auctions.ipynb).  We will consider position auctions, like those found in paid search marketplaces, but focus on virtual value transformations rather than payment and allocation networks.\n",
    "\n",
    "## Motivating example\n",
    "\n",
    "Consider a three-bidder, two-slot position auction where the values for the three bidders are correlated.  There is a signal $c\\sim U[0,1]$, which we intepret as a _conversion rate_.  The value of the item for bidder 1 is a random variable $v_1 = x_1 c$ where $x_1 \\sim U[0,1]$, similarly for bidder 2 and bidder 3 with independent $x_i \\sim U[0,1]$.\n",
    "\n",
    "The first slot has a click-through-rate (quality) of 1.  The second slot has a click-through-rate of 0.5.  A bidder may purchase one slot only, so we can consider this a special case of a multi-item, unit-demand scenario.\n",
    "\n",
    "## Architectures and supporting functions\n",
    "\n",
    "In this tutorial, we will make use of Monotonic networks.\n",
    "\n",
    "### Preliminaries\n",
    "\n",
    "We will make heavy use of numpy, pandas, and pytorch."
   ]
  },
  {
   "cell_type": "code",
   "execution_count": 1,
   "metadata": {},
   "outputs": [],
   "source": [
    "import numpy as np\n",
    "import pandas as pd\n",
    "\n",
    "import torch\n",
    "import torch.nn as nn\n",
    "import torch.nn.functional as F\n",
    "\n",
    "device = torch.device(\"cuda\") if torch.cuda.is_available() else torch.device('cpu')"
   ]
  },
  {
   "cell_type": "markdown",
   "metadata": {},
   "source": [
    "We will also make use of matplotlib and seaborn for visualization:"
   ]
  },
  {
   "cell_type": "code",
   "execution_count": 2,
   "metadata": {},
   "outputs": [],
   "source": [
    "import matplotlib.pyplot as plt\n",
    "import seaborn as sns\n",
    "%matplotlib inline"
   ]
  },
  {
   "cell_type": "markdown",
   "metadata": {},
   "source": [
    "### Common components\n",
    "\n",
    "All mechanism networks will output allocations and payments.  The allocation shape is `[batch_size, bidders]`.  The columns represent the probability that the item is allocated to the respective bidder.  The payment shape is `[batch_size, bidders]`.  Here each column represents the payment of the respective bidder.\n",
    "\n",
    "We define a generic mechanism as follows:"
   ]
  },
  {
   "cell_type": "code",
   "execution_count": 3,
   "metadata": {},
   "outputs": [],
   "source": [
    "class MechanismNet(nn.Module):\n",
    "    def __init__(self, allocation_rule, payment_rule):\n",
    "        super(MechanismNet, self).__init__()\n",
    "        self.allocation_rule = allocation_rule\n",
    "        self.payment_rule = payment_rule\n",
    "        \n",
    "    def forward(self, x, signals):\n",
    "        allocation = self.allocation_rule(x, signals)\n",
    "        return allocation, self.payment_rule(x, signals)\n"
   ]
  },
  {
   "cell_type": "markdown",
   "metadata": {},
   "source": [
    "We define a position mechanism as a `sequential slot mechanism` as a mechanism where each slot is allocated sequentially to the remaining (non-winning) bidders.  The slot allocations and payments can be weighted with a slot-dependent factor and use a virtual value function to transform the bids and prices."
   ]
  },
  {
   "cell_type": "code",
   "execution_count": 4,
   "metadata": {},
   "outputs": [],
   "source": [
    "class SequentialSlotMechanismNet(nn.Module):\n",
    "    def __init__(self, slot_mechanisms, slot_weights, virtual_net):\n",
    "        super(SequentialSlotMechanismNet, self).__init__()\n",
    "        assert len(slot_mechanisms) == len(slot_weights)\n",
    "        self.slot_mechanisms = nn.ModuleList(slot_mechanisms)\n",
    "        self.slot_weights = slot_weights\n",
    "        self.virtual_net = virtual_net\n",
    "        \n",
    "    def forward(self, x, signals):\n",
    "        virtual_bids = self.virtual_net(x, bids=x, signals=signals)\n",
    "        \n",
    "        allocations, virtual_payments, weights = [], [], []\n",
    "        for weight, mechanism in zip(self.slot_weights, self.slot_mechanisms):\n",
    "            allocation, payment = mechanism(virtual_bids, signals)\n",
    "            allocations.append(allocation)\n",
    "            virtual_payments.append(payment)\n",
    "            weights.append(weight)\n",
    "            virtual_bids = (1-allocation) * virtual_bids\n",
    "            \n",
    "        payments = [self.virtual_net(vp, bids=x, signals=signals, invert=True) for vp in virtual_payments]\n",
    "        weighted_allocations = [a * w for a,w in zip(allocations, weights)]\n",
    "        weighted_payments = [wa*p for wa,p in zip(weighted_allocations,payments)]\n",
    "        return sum(weighted_allocations), sum(weighted_payments)\n",
    "    "
   ]
  },
  {
   "cell_type": "markdown",
   "metadata": {},
   "source": [
    "Utility can thusly be calculated by:"
   ]
  },
  {
   "cell_type": "code",
   "execution_count": 5,
   "metadata": {},
   "outputs": [],
   "source": [
    "def calc_utility(bids, signals, mechanism, valuation=None, output_components=False):\n",
    "    valuation = valuation if valuation is not None else bids\n",
    "    allocation, payment = mechanism(bids, signals)\n",
    "    if output_components:\n",
    "        return allocation*valuation-payment, allocation, payment\n",
    "    else:\n",
    "        return allocation*valuation-payment"
   ]
  },
  {
   "cell_type": "markdown",
   "metadata": {},
   "source": [
    "The `calc_utility` function will return a tensor of shape `[batch_size,bidders]`.\n",
    "\n",
    "We now define two monotonic network class, where `Identity` is a special case that returns its inputs."
   ]
  },
  {
   "cell_type": "code",
   "execution_count": 6,
   "metadata": {},
   "outputs": [],
   "source": [
    "class Identity(nn.Module):\n",
    "    def __init__(self):\n",
    "        super(Identity, self).__init__()\n",
    "        \n",
    "    def forward(self, input, bids=None, signals=None, invert=False):\n",
    "        return input\n",
    "    \n",
    "class Monotonic(nn.Module):\n",
    "    __constants__ = ['bias']\n",
    "\n",
    "    def __init__(self, bidders, signal_count, hidden_features, linear_functions, groups):\n",
    "        super(Monotonic, self).__init__()\n",
    "        self.bidders = bidders\n",
    "        self.linear_functions = linear_functions\n",
    "        self.groups = groups\n",
    "        self.signals_bn = nn.BatchNorm1d(signal_count)\n",
    "        self.linear0 = nn.ModuleList([nn.Linear(bidders + signal_count, hidden_features) for _ in range(bidders)])\n",
    "        self.linear1 = nn.ModuleList([nn.Linear(hidden_features, hidden_features) for _ in range(bidders)])\n",
    "        self.weights = nn.ModuleList([nn.Linear(hidden_features, linear_functions * groups) for _ in range(bidders)])\n",
    "        self.biases = nn.ModuleList([nn.Linear(hidden_features, linear_functions * groups) for _ in range(bidders)])\n",
    "        \n",
    "    def calc_weights_and_biases(self, bidder, bids, signals):\n",
    "        zero_bidder_bids = bids.index_fill(1,torch.tensor([bidder]).to(device),0)\n",
    "        signals = self.signals_bn(signals)\n",
    "        in0 = torch.cat((zero_bidder_bids,signals), dim=1)\n",
    "        out0 = F.leaky_relu(self.linear0[bidder](in0))\n",
    "        out1 = F.leaky_relu(self.linear1[bidder](out0))\n",
    "        return self.weights[bidder](out1), self.biases[bidder](out1)\n",
    "        \n",
    "    def apply_forward_by_bidder(self, bidder, bids, signals):\n",
    "        focused_bids = bids[:,bidder].unsqueeze(dim=1)\n",
    "        w, b = self.calc_weights_and_biases(bidder, bids, signals)\n",
    "        intermediate = torch.exp(w) * focused_bids + b\n",
    "        return intermediate.reshape(-1, self.groups, self.linear_functions).max(dim=2)[0].min(dim=1, keepdim=True)[0].squeeze(dim=1)\n",
    "        \n",
    "    def apply_inverse_by_bidder(self, bidder, bids, signals, vbids):\n",
    "        focused_vbids = vbids[:,bidder].unsqueeze(dim=1)\n",
    "        w, b = self.calc_weights_and_biases(bidder, bids, signals)\n",
    "        intermediate = torch.exp(-w) * (focused_vbids - b)\n",
    "        return intermediate.reshape(-1, self.groups, self.linear_functions).min(dim=2)[0].max(dim=1, keepdim=True)[0].squeeze(dim=1)\n",
    "        \n",
    "    def apply_forward(self, bids, signals):\n",
    "        return torch.stack([self.apply_forward_by_bidder(bidder, bids, signals) for bidder in range(self.bidders)], dim=1)\n",
    "        \n",
    "    def apply_inverse(self, bids, vbids, signals):\n",
    "        return torch.stack([self.apply_inverse_by_bidder(bidder, bids, signals, vbids) for bidder in range(self.bidders)], dim=1)\n",
    "        \n",
    "    def forward(self, input, bids=None, signals=None, invert=False):\n",
    "        if invert:\n",
    "            return self.apply_inverse(bids, input, signals)\n",
    "        else:\n",
    "            return self.apply_forward(input, signals)\n"
   ]
  },
  {
   "cell_type": "markdown",
   "metadata": {},
   "source": [
    "Finally, we can define the evaluation and training function.  In the evaluation function, the mechanisms are not learning, whereas in the training function they are.  In both cases, the responders are learning and are used to calculate the expected DSIC and IR violations."
   ]
  },
  {
   "cell_type": "code",
   "execution_count": 18,
   "metadata": {},
   "outputs": [],
   "source": [
    "import torch.optim as optim\n",
    "import torch.utils.data as data_utils\n",
    "from tqdm import tqdm\n",
    "\n",
    "\n",
    "def evaluate(mechanism, values_and_signals_loader, epochs=1):\n",
    "    # Initalize the optimizer\n",
    "    report_data = []\n",
    "\n",
    "    for epoch in tqdm(range(epochs)):\n",
    "        for batch_idx,(values_list) in enumerate(values_and_signals_loader):\n",
    "            values = values_list[0].to(device)\n",
    "            signals = values_list[1].to(device)\n",
    "            \n",
    "            # calculate the utilities and prices\n",
    "            utility, allocation, payment = calc_utility(\n",
    "                values, signals, mechanism, output_components=True)\n",
    "        \n",
    "            # compute components of the loss function\n",
    "            revenue = payment.sum(dim=-1).mean()\n",
    "            \n",
    "            report_data.append({\n",
    "                'epoch': epoch,\n",
    "                'batch': batch_idx,\n",
    "                'revenue':revenue.item()})\n",
    "    \n",
    "    return pd.DataFrame(report_data)\n",
    "\n",
    "def train(mechanism, values_and_signals_loader, epochs=1):\n",
    "    # Initalize the optimizer\n",
    "    mechanism_optimizer = optim.Adam(mechanism.parameters(), lr=1e-4)\n",
    "    report_data = []\n",
    "\n",
    "    for epoch in tqdm(range(epochs)):\n",
    "        for batch_idx,(values_list) in enumerate(values_and_signals_loader):\n",
    "            values = values_list[0].to(device)\n",
    "            signals = values_list[1].to(device)\n",
    "            \n",
    "            # calculate the utilities and prices\n",
    "            utility, allocation, payment = calc_utility(\n",
    "                values, signals, mechanism, output_components=True)\n",
    "    \n",
    "            # compute components of the loss function\n",
    "            revenue = payment.sum(dim=-1).mean()\n",
    "    \n",
    "            # Start the gradient computation\n",
    "            mechanism.zero_grad()\n",
    "    \n",
    "            # define the loss \n",
    "            loss = -revenue\n",
    "    \n",
    "            # Trigger the autogradient calculation\n",
    "            loss.backward()\n",
    "            \n",
    "            # Clip the norm to prevent exploding gradients\n",
    "            nn.utils.clip_grad_norm_(mechanism.parameters(), 1.0)\n",
    "        \n",
    "            # Take a step towards the gradient\n",
    "            mechanism_optimizer.step()\n",
    "                        \n",
    "            report_data.append({\n",
    "                'epoch': epoch,\n",
    "                'batch': batch_idx,\n",
    "                'revenue':revenue.item(),\n",
    "                'loss':loss.item()})\n",
    "            \n",
    "    return pd.DataFrame(report_data)   "
   ]
  },
  {
   "cell_type": "markdown",
   "metadata": {},
   "source": [
    "Now we define the auction scenario:"
   ]
  },
  {
   "cell_type": "code",
   "execution_count": 8,
   "metadata": {},
   "outputs": [],
   "source": [
    "# Number of bidders\n",
    "bidders = 3\n",
    "\n",
    "# Pr(click|position)\n",
    "slot_weights = [1, 0.5]\n",
    "\n",
    "# Number of slots\n",
    "slots = len(slot_weights)\n"
   ]
  },
  {
   "cell_type": "markdown",
   "metadata": {},
   "source": [
    "## GSP\n",
    "\n",
    "For comparison, we define the GSP mechanism by using sequantial second-price auctions (SPA):"
   ]
  },
  {
   "cell_type": "code",
   "execution_count": 9,
   "metadata": {},
   "outputs": [],
   "source": [
    "class SpaAllocation(nn.Module):\n",
    "    def __init__(self, kappa=1e4):\n",
    "        super(SpaAllocation, self).__init__()\n",
    "        assert kappa > 0\n",
    "        self.kappa = kappa\n",
    "        \n",
    "    def forward(self, x, signals):\n",
    "        bids_plus_dummy = torch.cat([x, torch.zeros(x.shape[0],1).to(device)], dim=1)\n",
    "        return torch.softmax(self.kappa*bids_plus_dummy, dim=1)[:,:-1]\n",
    "\n",
    "class SpaPayment(nn.Module):\n",
    "    def __init__(self):\n",
    "        super(SpaPayment, self).__init__()\n",
    "        \n",
    "    def forward(self, x, signals):\n",
    "        return torch.stack([x.index_fill(1,torch.tensor([col]).to(device),0).max(dim=1)[0] for col in range(x.shape[1])], dim=1)\n",
    "    \n",
    "def create_spa_mechanism():\n",
    "    return MechanismNet(\n",
    "        SpaAllocation(),\n",
    "        SpaPayment())\n",
    "\n",
    "def create_gsp_mechanism():\n",
    "    return SequentialSlotMechanismNet(\n",
    "        [create_spa_mechanism() for _ in range(len(slot_weights))],\n",
    "        slot_weights,\n",
    "        Identity())"
   ]
  },
  {
   "cell_type": "markdown",
   "metadata": {},
   "source": [
    "## MyersonNet\n",
    "\n",
    "The allocation network is defined as follows:"
   ]
  },
  {
   "cell_type": "code",
   "execution_count": 10,
   "metadata": {},
   "outputs": [],
   "source": [
    "def create_myerson_net(bidders, signal_count, hidden_features=20, linear_functions=3, groups=3):\n",
    "    return SequentialSlotMechanismNet(\n",
    "        [create_spa_mechanism() for _ in range(len(slot_weights))],\n",
    "        slot_weights,\n",
    "        Monotonic(bidders, signal_count, hidden_features, linear_functions, groups))"
   ]
  },
  {
   "cell_type": "markdown",
   "metadata": {},
   "source": [
    "## Auction for the motivating example\n",
    "\n"
   ]
  },
  {
   "cell_type": "markdown",
   "metadata": {},
   "source": [
    "The networks will train on data that is sampled from the value distribution, which is loaded into a `DataLoader`."
   ]
  },
  {
   "cell_type": "code",
   "execution_count": 19,
   "metadata": {},
   "outputs": [],
   "source": [
    "sample_size = 2**11\n",
    "batch_size = 2**8\n",
    "epochs = 2000\n",
    "\n",
    "indepedent_components = torch.rand(sample_size, bidders)\n",
    "common_components = torch.rand(sample_size, 1)\n",
    "values = indepedent_components * common_components\n",
    "\n",
    "values_and_signals_loader=data_utils.DataLoader(\n",
    "    data_utils.TensorDataset(values, common_components),\n",
    "    batch_size=batch_size)"
   ]
  },
  {
   "cell_type": "markdown",
   "metadata": {},
   "source": [
    "Before training the networks, let's establish a GSP baseline."
   ]
  },
  {
   "cell_type": "code",
   "execution_count": 20,
   "metadata": {},
   "outputs": [
    {
     "name": "stderr",
     "output_type": "stream",
     "text": [
      "100%|██████████| 2000/2000 [00:33<00:00, 60.35it/s]\n"
     ]
    }
   ],
   "source": [
    "gsp = create_gsp_mechanism()\n",
    "gsp_report = evaluate(gsp, values_and_signals_loader, epochs=epochs)"
   ]
  },
  {
   "cell_type": "markdown",
   "metadata": {},
   "source": [
    "We now create a simple MyersonNet instance."
   ]
  },
  {
   "cell_type": "code",
   "execution_count": 21,
   "metadata": {},
   "outputs": [],
   "source": [
    "myerson_net = create_myerson_net(bidders,1).to(device)"
   ]
  },
  {
   "cell_type": "markdown",
   "metadata": {},
   "source": [
    "We loop over the data for a number of epochs and record traces of the networks learning."
   ]
  },
  {
   "cell_type": "code",
   "execution_count": 22,
   "metadata": {},
   "outputs": [
    {
     "name": "stderr",
     "output_type": "stream",
     "text": [
      "100%|██████████| 2000/2000 [07:00<00:00,  7.66it/s]\n"
     ]
    }
   ],
   "source": [
    "myerson_net_report = train(myerson_net, values_and_signals_loader, epochs=epochs)"
   ]
  },
  {
   "cell_type": "markdown",
   "metadata": {},
   "source": [
    "Let's review the revenue of the network: MyersonNet exceeds GSP revenue."
   ]
  },
  {
   "cell_type": "code",
   "execution_count": 23,
   "metadata": {},
   "outputs": [
    {
     "data": {
      "image/png": "[encoded data removed]",
      "text/plain": [
       "<Figure size 576x432 with 1 Axes>"
      ]
     },
     "metadata": {
      "needs_background": "light"
     },
     "output_type": "display_data"
    }
   ],
   "source": [
    "fig, ax = plt.subplots(figsize=(8,6));\n",
    "ax.plot(gsp_report[['revenue']].rolling(100).mean(), label='GSP');\n",
    "ax.plot(myerson_net_report[['revenue']].rolling(100).mean(), label='MyersonNet');\n",
    "ax.legend();"
   ]
  }
 ],
 "metadata": {
  "kernelspec": {
   "display_name": "Python [conda env:auction]",
   "language": "python",
   "name": "conda-env-auction-py"
  },
  "language_info": {
   "codemirror_mode": {
    "name": "ipython",
    "version": 3
   },
   "file_extension": ".py",
   "mimetype": "text/x-python",
   "name": "python",
   "nbconvert_exporter": "python",
   "pygments_lexer": "ipython3",
   "version": "3.6.8"
  }
 },
 "nbformat": 4,
 "nbformat_minor": 2
}
