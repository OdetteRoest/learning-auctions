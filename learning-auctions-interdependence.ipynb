{
 "cells": [
  {
   "cell_type": "markdown",
   "metadata": {},
   "source": [
    "# Learning Auctions with Interdependent Values and Context\n",
    "\n",
    "In the [previous tutorial](learning-auctions-intro.ipynb), we looked at learning optimal auctions with independent valuations.  In this tutorial, we will consider auctions with interdependent values and context.  The latter is represented by a common component of the values.\n",
    "\n",
    "## Motivating example\n",
    "\n",
    "Consider a two-bidder single-item auction where the values for the two bidders are correlated.  There is a signal $c\\sim U[0,1]$.  The value of the item for bidder 1 is a random variable $v_1 = x_1 c$ where $x_1 \\sim U[0,1]$, similarly for bidder 2 the value $v_2 = x_2 c$ where $x_2 \\sim U[0,1]$.\n",
    "\n",
    "## Architectures and supporting functions\n",
    "\n",
    "As in the previous tutorial, we will make use of ShadeNet.\n",
    "\n",
    "### Preliminaries\n",
    "\n",
    "We will make heavy use of numpy, pandas, and pytorch."
   ]
  },
  {
   "cell_type": "code",
   "execution_count": 1,
   "metadata": {},
   "outputs": [],
   "source": [
    "import numpy as np\n",
    "import pandas as pd\n",
    "\n",
    "import torch\n",
    "import torch.nn as nn\n",
    "import torch.nn.functional as F\n",
    "\n",
    "device = torch.device(\"cuda\") if torch.cuda.is_available() else torch.device('cpu')"
   ]
  },
  {
   "cell_type": "markdown",
   "metadata": {},
   "source": [
    "We will also make use of matplotlib and seaborn for visualization:"
   ]
  },
  {
   "cell_type": "code",
   "execution_count": 2,
   "metadata": {},
   "outputs": [],
   "source": [
    "import matplotlib.pyplot as plt\n",
    "import seaborn as sns\n",
    "%matplotlib inline"
   ]
  },
  {
   "cell_type": "markdown",
   "metadata": {},
   "source": [
    "### Common components\n",
    "\n",
    "All mechanism networks will output allocations and payments.  The allocation shape is `[batch_size, bidders+1]`.  The first column represents the probability that the item is not allocated, with all other columns representing the probability that the item is allocated to the respective bidder.  The payment shape is `[batch_size, bidders]`.  Here each column represents the payment of the respective bidder.\n",
    "\n",
    "We define a generic mechanism as follows:"
   ]
  },
  {
   "cell_type": "code",
   "execution_count": 3,
   "metadata": {},
   "outputs": [],
   "source": [
    "class MechanismNet(nn.Module):\n",
    "    def __init__(self, allocation_rule, payment_rule):\n",
    "        super(MechanismNet, self).__init__()\n",
    "        self.allocation_rule = allocation_rule\n",
    "        self.payment_rule = payment_rule\n",
    "        \n",
    "    def forward(self, x):\n",
    "        allocation = self.allocation_rule(x)\n",
    "        return allocation, allocation[:,1:] * self.payment_rule(x)"
   ]
  },
  {
   "cell_type": "markdown",
   "metadata": {},
   "source": [
    "Utility can thusly be calculated by:"
   ]
  },
  {
   "cell_type": "code",
   "execution_count": 4,
   "metadata": {},
   "outputs": [],
   "source": [
    "def calc_utility(bids, mechanism, valuation=None, output_components=False):\n",
    "    valuation = valuation if valuation is not None else bids\n",
    "    allocation, payment = mechanism(bids)\n",
    "    if output_components:\n",
    "        return allocation[:,1:]*valuation-payment, allocation, payment\n",
    "    else:\n",
    "        return allocation[:,1:]*valuation-payment"
   ]
  },
  {
   "cell_type": "markdown",
   "metadata": {},
   "source": [
    "The `calc_utility` function will return a tensor of shape `[batch_size,bidders]`.\n",
    "\n",
    "In order to determine if a mechanism is (approximately) DSIC, we calculate regret:"
   ]
  },
  {
   "cell_type": "code",
   "execution_count": 5,
   "metadata": {},
   "outputs": [],
   "source": [
    "def calc_regret(values, mechanism, responders, leaky=False):\n",
    "    u_true, a_true, p_true = calc_utility(values, mechanism, output_components=True)\n",
    "    regret = torch.zeros(values.shape).to(device)\n",
    "    for bidder, responder in enumerate(responders):\n",
    "        bidder_mask = torch.zeros(values.shape).to(device)\n",
    "        bidder_mask[:,bidder] = 1.0\n",
    "        response = responder(values, a_true, p_true)\n",
    "        u_response = calc_utility(response, mechanism, values)\n",
    "        if leaky:\n",
    "            regret = regret + F.leaky_relu((u_response - u_true) * bidder_mask)\n",
    "        else:\n",
    "            regret = regret + F.relu((u_response - u_true) * bidder_mask)\n",
    "    return regret.mean(dim=0)"
   ]
  },
  {
   "cell_type": "markdown",
   "metadata": {},
   "source": [
    "Finally, we can define the training function."
   ]
  },
  {
   "cell_type": "code",
   "execution_count": 6,
   "metadata": {},
   "outputs": [],
   "source": [
    "import torch.optim as optim\n",
    "import torch.utils.data as data_utils\n",
    "from tqdm import tqdm\n",
    "\n",
    "def train(mechanism, responders, values_loader, epochs=1, rho=100, clipping_norm=None):\n",
    "    # Initialize augmented lagrangian parameters\n",
    "    lambda_dsic = torch.zeros(bidders).to(device)\n",
    "    lambda_ir   = torch.zeros(bidders).to(device)\n",
    "\n",
    "    # Initalize the optimizer\n",
    "    mechanism_optimizer = optim.Adam(mechanism.parameters(), lr=1e-4)\n",
    "    responder_optimizers = [optim.Adam(r.parameters(), lr=1e-4) for r in responders]\n",
    "    report_data = []\n",
    "\n",
    "    for epoch in tqdm(range(epochs)):\n",
    "        for batch_idx,(values_list) in enumerate(values_loader):\n",
    "            values = values_list[0].to(device)\n",
    "            \n",
    "            # calculate the utilities and prices\n",
    "            utility, allocation, payment = calc_utility(\n",
    "                values, mechanism, output_components=True)\n",
    "    \n",
    "            # compute expected regret \n",
    "            dsic_violation = calc_regret(\n",
    "                values, \n",
    "                mechanism,\n",
    "                responders)\n",
    "    \n",
    "            # compute individual rationality violation\n",
    "            ir_violation = F.relu(-utility).mean(dim=0)\n",
    "    \n",
    "            # compute components of the loss function\n",
    "            revenue = payment.sum(dim=-1).mean()\n",
    "            total_dsic_violation = dsic_violation.sum()\n",
    "            total_ir_violation = ir_violation.sum()\n",
    "    \n",
    "            # Start the gradient computation\n",
    "            mechanism.zero_grad()\n",
    "    \n",
    "            # define the loss \n",
    "            loss = -revenue\\\n",
    "                +(lambda_dsic*dsic_violation).sum()\\\n",
    "                +(lambda_ir*ir_violation).sum()\\\n",
    "                +0.5*rho*(total_dsic_violation.pow(2)+total_ir_violation.pow(2))\n",
    "    \n",
    "            # Trigger the autogradient calculation\n",
    "            loss.backward()\n",
    "        \n",
    "            # Take a step towards the gradient\n",
    "            mechanism_optimizer.step()\n",
    "            \n",
    "            with torch.no_grad():\n",
    "                mechanism.eval()\n",
    "                for responder in responders:\n",
    "                    responder.eval()\n",
    "                    \n",
    "                # Update the augmented lagrangian parameters\n",
    "                dsic_violation_next = calc_regret(\n",
    "                    values,\n",
    "                    mechanism,\n",
    "                    responders)\n",
    "                u_next = calc_utility(values, mechanism)\n",
    "                ir_violation_next = F.relu(-u_next).mean(dim=0)\n",
    "                lambda_dsic = lambda_dsic + rho * dsic_violation_next\n",
    "                lambda_ir = lambda_ir + rho * ir_violation_next\n",
    "                mechanism.train()\n",
    "                for responder in responders:\n",
    "                    responder.train()\n",
    "            \n",
    "            report_data.append({\n",
    "                'epoch': epoch,\n",
    "                'batch': batch_idx,\n",
    "                'revenue':revenue.item(),\n",
    "                'total_dsic_violation':total_dsic_violation.item(),\n",
    "                'total_ir_violation':total_ir_violation.item(),\n",
    "                'loss':loss.item()})\n",
    "            \n",
    "            for bidder, responder in enumerate(responders):\n",
    "                optimizer = responder_optimizers[bidder]\n",
    "                optimizer.zero_grad()\n",
    "                regret = calc_regret(\n",
    "                    values, \n",
    "                    mechanism,\n",
    "                    responders,\n",
    "                    leaky=True)\n",
    "                (-regret[bidder]).backward()\n",
    "                optimizer.step()\n",
    "            \n",
    "    return pd.DataFrame(report_data)     "
   ]
  },
  {
   "cell_type": "markdown",
   "metadata": {},
   "source": [
    "## Responder\n",
    "\n",
    "The responder network computes the best response to the mechanism."
   ]
  },
  {
   "cell_type": "code",
   "execution_count": 7,
   "metadata": {},
   "outputs": [],
   "source": [
    "class Responder(nn.Module):\n",
    "    def __init__(self, bidder, hidden_units):\n",
    "        super(Responder, self).__init__()\n",
    "        self.bidder = bidder\n",
    "        self.initial_layer = nn.Linear(2, hidden_units)\n",
    "        self.hidden_layer = nn.Linear(hidden_units, hidden_units)\n",
    "        self.final_layer = nn.Linear(hidden_units, 1)\n",
    "        \n",
    "    def forward(self, values, allocation, payment):\n",
    "        x = torch.cat((allocation[:,self.bidder+1].unsqueeze(1), payment[:,self.bidder].unsqueeze(1)), dim=1)\n",
    "        x = F.leaky_relu(self.initial_layer(x))\n",
    "        x = F.leaky_relu(self.hidden_layer(x))\n",
    "        x = torch.sigmoid(self.final_layer(x))\n",
    "        bidder_mask = torch.zeros(values.shape).to(device)\n",
    "        bidder_mask[:,self.bidder] = 1.0\n",
    "        return (1-bidder_mask)*values + bidder_mask * values * x"
   ]
  },
  {
   "cell_type": "markdown",
   "metadata": {},
   "source": [
    "## RegretNet\n",
    "\n",
    "The allocation network is defined as follows:"
   ]
  },
  {
   "cell_type": "code",
   "execution_count": 8,
   "metadata": {},
   "outputs": [],
   "source": [
    "class RegretNetAllocation(nn.Module):\n",
    "    def __init__(self, bidders, hidden_layers, hidden_units):\n",
    "        super(RegretNetAllocation, self).__init__()\n",
    "        assert hidden_layers > 0\n",
    "        fc_layers = []\n",
    "        fc_layers.append(nn.Linear(bidders, hidden_units))\n",
    "        if hidden_layers > 1:\n",
    "            for _ in range(hidden_layers-1):\n",
    "                fc_layers.append(nn.Linear(hidden_units, hidden_units))\n",
    "        fc_layers.append(nn.Linear(hidden_units, bidders+1))\n",
    "        self.fc_layers = nn.ModuleList(fc_layers)\n",
    "        \n",
    "    def forward(self, x):\n",
    "        for layer in self.fc_layers[:-1]:\n",
    "            x = F.leaky_relu(layer(x))\n",
    "        return F.softmax(self.fc_layers[-1](x), dim=1)"
   ]
  },
  {
   "cell_type": "markdown",
   "metadata": {},
   "source": [
    "The payment network is defined as follows:"
   ]
  },
  {
   "cell_type": "code",
   "execution_count": 9,
   "metadata": {},
   "outputs": [],
   "source": [
    "class RegretNetPayment(nn.Module):\n",
    "    def __init__(self, bidders, hidden_layers, hidden_units):\n",
    "        super(RegretNetPayment, self).__init__()\n",
    "        assert hidden_layers > 0\n",
    "        fc_layers = []\n",
    "        fc_layers.append(nn.Linear(bidders, hidden_units))\n",
    "        if hidden_layers > 1:\n",
    "            for _ in range(hidden_layers-1):\n",
    "                fc_layers.append(nn.Linear(hidden_units, hidden_units))\n",
    "        fc_layers.append(nn.Linear(hidden_units, bidders))\n",
    "        self.fc_layers = nn.ModuleList(fc_layers)\n",
    "        \n",
    "    def forward(self, x):\n",
    "        for layer in self.fc_layers:\n",
    "            x = F.leaky_relu(layer(x))\n",
    "        return x"
   ]
  },
  {
   "cell_type": "markdown",
   "metadata": {},
   "source": [
    "Finally, we can define the RegretNet mechanism:"
   ]
  },
  {
   "cell_type": "code",
   "execution_count": 10,
   "metadata": {},
   "outputs": [],
   "source": [
    "def create_regret_net(bidders, hidden_layers=2, hidden_units=100):\n",
    "    return MechanismNet(\n",
    "        RegretNetAllocation(bidders, hidden_layers, hidden_units),\n",
    "        RegretNetPayment(bidders, hidden_layers, hidden_units))"
   ]
  },
  {
   "cell_type": "markdown",
   "metadata": {},
   "source": [
    "## Auction for the motivating example\n",
    "\n"
   ]
  },
  {
   "cell_type": "code",
   "execution_count": 11,
   "metadata": {},
   "outputs": [],
   "source": [
    "bidders = 2"
   ]
  },
  {
   "cell_type": "markdown",
   "metadata": {},
   "source": [
    "The networks will train on data that is sampled from the value distribution, which is loaded into a `DataLoader`."
   ]
  },
  {
   "cell_type": "code",
   "execution_count": 12,
   "metadata": {},
   "outputs": [],
   "source": [
    "sample_size = 2**11\n",
    "batch_size = 2**8\n",
    "\n",
    "indepedent_components = torch.rand(sample_size, bidders)\n",
    "common_components = torch.rand(sample_size, 1)\n",
    "values = indepedent_components * common_components\n",
    "\n",
    "values_loader=data_utils.DataLoader(\n",
    "    data_utils.TensorDataset(values),\n",
    "    batch_size=batch_size)"
   ]
  },
  {
   "cell_type": "markdown",
   "metadata": {},
   "source": [
    "We now create a simple RegretNet instance with corresponding responders."
   ]
  },
  {
   "cell_type": "code",
   "execution_count": 13,
   "metadata": {},
   "outputs": [],
   "source": [
    "regret_net = create_regret_net(bidders).to(device)\n",
    "regret_net_responders = [Responder(bidder, 100).to(device) for bidder in range(bidders)]"
   ]
  },
  {
   "cell_type": "markdown",
   "metadata": {},
   "source": [
    "We loop over the data for a number of epochs and record traces of the networks learning."
   ]
  },
  {
   "cell_type": "code",
   "execution_count": 14,
   "metadata": {},
   "outputs": [
    {
     "name": "stderr",
     "output_type": "stream",
     "text": [
      "100%|██████████| 1000/1000 [05:46<00:00,  2.05it/s]\n"
     ]
    }
   ],
   "source": [
    "epochs = 1000\n",
    "regret_net_report = train(regret_net, regret_net_responders, values_loader, epochs=epochs)"
   ]
  },
  {
   "cell_type": "markdown",
   "metadata": {},
   "source": [
    "Next, let's review the DSIC violations of the network. In the figure below, we can see that RegretNet has a small and decreasing violation."
   ]
  },
  {
   "cell_type": "code",
   "execution_count": 15,
   "metadata": {},
   "outputs": [
    {
     "data": {
      "image/png": "[encoded data removed]",
      "text/plain": [
       "<Figure size 576x432 with 1 Axes>"
      ]
     },
     "metadata": {
      "needs_background": "light"
     },
     "output_type": "display_data"
    }
   ],
   "source": [
    "fig, ax = plt.subplots(figsize=(8,6));\n",
    "ax.plot(regret_net_report[['total_dsic_violation']].rolling(100).mean(), label='RegretNet');\n",
    "ax.legend();"
   ]
  },
  {
   "cell_type": "markdown",
   "metadata": {},
   "source": [
    "Let's review the revenue of the network.  We see that RegretNet increases smoothly."
   ]
  },
  {
   "cell_type": "code",
   "execution_count": 16,
   "metadata": {},
   "outputs": [
    {
     "data": {
      "image/png": "[encoded data removed]",
      "text/plain": [
       "<Figure size 576x432 with 1 Axes>"
      ]
     },
     "metadata": {
      "needs_background": "light"
     },
     "output_type": "display_data"
    }
   ],
   "source": [
    "fig, ax = plt.subplots(figsize=(8,6));\n",
    "ax.plot(regret_net_report[['revenue']].rolling(100).mean(), label='ShadeNet');\n",
    "ax.legend();"
   ]
  },
  {
   "cell_type": "markdown",
   "metadata": {},
   "source": [
    "### What if the auctioneer can observe the common component?\n",
    "\n",
    "Let's modify RegretNet to accept additional signals."
   ]
  },
  {
   "cell_type": "code",
   "execution_count": 17,
   "metadata": {},
   "outputs": [],
   "source": [
    "class RegretWithSignalsNetAllocation(nn.Module):\n",
    "    def __init__(self, bidders, signal_count, hidden_layers, hidden_units):\n",
    "        super(RegretWithSignalsNetAllocation, self).__init__()\n",
    "        assert hidden_layers > 0\n",
    "        fc_layers = []\n",
    "        fc_layers.append(nn.Linear(bidders+signal_count, hidden_units))\n",
    "        if hidden_layers > 1:\n",
    "            for _ in range(hidden_layers-1):\n",
    "                fc_layers.append(nn.Linear(hidden_units, hidden_units))\n",
    "        fc_layers.append(nn.Linear(hidden_units, bidders+1))\n",
    "        self.fc_layers = nn.ModuleList(fc_layers)\n",
    "        \n",
    "    def forward(self, x, signals):\n",
    "        x = torch.cat((x,signals), dim=1)\n",
    "        for layer in self.fc_layers[:-1]:\n",
    "            x = F.leaky_relu(layer(x))\n",
    "        return F.softmax(self.fc_layers[-1](x), dim=1)\n",
    "\n",
    "class RegretWithSignalsNetPayment(nn.Module):\n",
    "    def __init__(self, bidders, signal_count, hidden_layers, hidden_units):\n",
    "        super(RegretWithSignalsNetPayment, self).__init__()\n",
    "        assert hidden_layers > 0\n",
    "        fc_layers = []\n",
    "        fc_layers.append(nn.Linear(bidders+signal_count, hidden_units))\n",
    "        if hidden_layers > 1:\n",
    "            for _ in range(hidden_layers-1):\n",
    "                fc_layers.append(nn.Linear(hidden_units, hidden_units))\n",
    "        fc_layers.append(nn.Linear(hidden_units, bidders))\n",
    "        self.fc_layers = nn.ModuleList(fc_layers)\n",
    "        \n",
    "    def forward(self, x, signals):\n",
    "        x = torch.cat((x,signals), dim=1)\n",
    "        for layer in self.fc_layers:\n",
    "            x = F.leaky_relu(layer(x))\n",
    "        return x\n",
    "    \n",
    "class MechanismWithSignalsNet(nn.Module):\n",
    "    def __init__(self, allocation_rule, payment_rule):\n",
    "        super(MechanismWithSignalsNet, self).__init__()\n",
    "        self.allocation_rule = allocation_rule\n",
    "        self.payment_rule = payment_rule\n",
    "        \n",
    "    def forward(self, x, signals):\n",
    "        allocation = self.allocation_rule(x, signals)\n",
    "        return allocation, allocation[:,1:] * self.payment_rule(x, signals)\n",
    "\n",
    "def calc_utility_with_signals(bids, signals, mechanism, valuation=None, output_components=False):\n",
    "    valuation = valuation if valuation is not None else bids\n",
    "    allocation, payment = mechanism(bids, signals)\n",
    "    if output_components:\n",
    "        return allocation[:,1:]*valuation-payment, allocation, payment\n",
    "    else:\n",
    "        return allocation[:,1:]*valuation-payment\n",
    "    \n",
    "def calc_regret_with_signals(values, signals, mechanism, responders, leaky=False):\n",
    "    u_true, a_true, p_true = calc_utility_with_signals(values, signals, mechanism, output_components=True)\n",
    "    regret = torch.zeros(values.shape).to(device)\n",
    "    for bidder, responder in enumerate(responders):\n",
    "        bidder_mask = torch.zeros(values.shape).to(device)\n",
    "        bidder_mask[:,bidder] = 1.0\n",
    "        response = responder(values, a_true, p_true)\n",
    "        u_response = calc_utility_with_signals(response, signals, mechanism, values)\n",
    "        if leaky:\n",
    "            regret = regret + F.leaky_relu((u_response - u_true) * bidder_mask)\n",
    "        else:\n",
    "            regret = regret + F.relu((u_response - u_true) * bidder_mask)\n",
    "    return regret.mean(dim=0)\n",
    "\n",
    "def train_with_signals(mechanism, responders, values_and_signals_loader, epochs=1, rho=100, clipping_norm=None):\n",
    "    # Initialize augmented lagrangian parameters\n",
    "    lambda_dsic = torch.zeros(bidders).to(device)\n",
    "    lambda_ir   = torch.zeros(bidders).to(device)\n",
    "\n",
    "    # Initalize the optimizer\n",
    "    mechanism_optimizer = optim.Adam(mechanism.parameters(), lr=1e-4)\n",
    "    responder_optimizers = [optim.Adam(r.parameters(), lr=1e-4) for r in responders]\n",
    "    report_data = []\n",
    "\n",
    "    for epoch in tqdm(range(epochs)):\n",
    "        for batch_idx,(values_list) in enumerate(values_and_signals_loader):\n",
    "            values = values_list[0].to(device)\n",
    "            signals = values_list[1].to(device)\n",
    "            \n",
    "            # calculate the utilities and prices\n",
    "            utility, allocation, payment = calc_utility_with_signals(\n",
    "                values, signals, mechanism, output_components=True)\n",
    "    \n",
    "            # compute expected regret \n",
    "            dsic_violation = calc_regret_with_signals(\n",
    "                values,\n",
    "                signals,\n",
    "                mechanism,\n",
    "                responders)\n",
    "    \n",
    "            # compute individual rationality violation\n",
    "            ir_violation = F.relu(-utility).mean(dim=0)\n",
    "    \n",
    "            # compute components of the loss function\n",
    "            revenue = payment.sum(dim=-1).mean()\n",
    "            total_dsic_violation = dsic_violation.sum()\n",
    "            total_ir_violation = ir_violation.sum()\n",
    "    \n",
    "            # Start the gradient computation\n",
    "            mechanism.zero_grad()\n",
    "    \n",
    "            # define the loss \n",
    "            loss = -revenue\\\n",
    "                +(lambda_dsic*dsic_violation).sum()\\\n",
    "                +(lambda_ir*ir_violation).sum()\\\n",
    "                +0.5*rho*(total_dsic_violation.pow(2)+total_ir_violation.pow(2))\n",
    "    \n",
    "            # Trigger the autogradient calculation\n",
    "            loss.backward()\n",
    "        \n",
    "            # Take a step towards the gradient\n",
    "            mechanism_optimizer.step()\n",
    "            \n",
    "            with torch.no_grad():\n",
    "                mechanism.eval()\n",
    "                for responder in responders:\n",
    "                    responder.eval()\n",
    "                    \n",
    "                # Update the augmented lagrangian parameters\n",
    "                dsic_violation_next = calc_regret_with_signals(\n",
    "                    values,\n",
    "                    signals,\n",
    "                    mechanism,\n",
    "                    responders)\n",
    "                u_next = calc_utility_with_signals(values, signals, mechanism)\n",
    "                ir_violation_next = F.relu(-u_next).mean(dim=0)\n",
    "                lambda_dsic = lambda_dsic + rho * dsic_violation_next\n",
    "                lambda_ir = lambda_ir + rho * ir_violation_next\n",
    "                mechanism.train()\n",
    "                for responder in responders:\n",
    "                    responder.train()\n",
    "            \n",
    "            report_data.append({\n",
    "                'epoch': epoch,\n",
    "                'batch': batch_idx,\n",
    "                'revenue':revenue.item(),\n",
    "                'total_dsic_violation':total_dsic_violation.item(),\n",
    "                'total_ir_violation':total_ir_violation.item(),\n",
    "                'loss':loss.item()})\n",
    "            \n",
    "            for bidder, responder in enumerate(responders):\n",
    "                optimizer = responder_optimizers[bidder]\n",
    "                optimizer.zero_grad()\n",
    "                regret = calc_regret_with_signals(\n",
    "                    values,\n",
    "                    signals,\n",
    "                    mechanism,\n",
    "                    responders,\n",
    "                    leaky=True)\n",
    "                (-regret[bidder]).backward()\n",
    "                optimizer.step()\n",
    "            \n",
    "    return pd.DataFrame(report_data)     \n",
    "\n",
    "def create_regret_net_with_signals(bidders, signal_count, hidden_layers=2, hidden_units=100):\n",
    "    return MechanismWithSignalsNet(\n",
    "        RegretWithSignalsNetAllocation(bidders, signal_count, hidden_layers, hidden_units),\n",
    "        RegretWithSignalsNetPayment(bidders, signal_count, hidden_layers, hidden_units))"
   ]
  },
  {
   "cell_type": "markdown",
   "metadata": {},
   "source": [
    "Again, the networks will train on data that is sampled from the value distribution and now the signals."
   ]
  },
  {
   "cell_type": "code",
   "execution_count": 18,
   "metadata": {},
   "outputs": [],
   "source": [
    "values_and_signals_loader=data_utils.DataLoader(\n",
    "    data_utils.TensorDataset(values, common_components),\n",
    "    batch_size=batch_size)"
   ]
  },
  {
   "cell_type": "markdown",
   "metadata": {},
   "source": [
    "Load the new network that accepts signals."
   ]
  },
  {
   "cell_type": "code",
   "execution_count": 19,
   "metadata": {},
   "outputs": [],
   "source": [
    "regret_net_with_signals = create_regret_net_with_signals(bidders, 1).to(device)\n",
    "regret_net_with_signals_responders = [Responder(bidder, 100).to(device) for bidder in range(bidders)]"
   ]
  },
  {
   "cell_type": "markdown",
   "metadata": {},
   "source": [
    "As above, we loop over the data for a number of epochs and record traces of the networks learning."
   ]
  },
  {
   "cell_type": "code",
   "execution_count": 20,
   "metadata": {},
   "outputs": [
    {
     "name": "stderr",
     "output_type": "stream",
     "text": [
      "100%|██████████| 1000/1000 [05:18<00:00,  1.93it/s]\n"
     ]
    }
   ],
   "source": [
    "regret_net_with_signals_report = train_with_signals(regret_net_with_signals, regret_net_with_signals_responders, values_and_signals_loader, epochs=epochs)"
   ]
  },
  {
   "cell_type": "markdown",
   "metadata": {},
   "source": [
    "RegretWithSignalsNet quickly settles into low DCIS violation."
   ]
  },
  {
   "cell_type": "code",
   "execution_count": 21,
   "metadata": {},
   "outputs": [
    {
     "data": {
      "image/png": "[encoded data removed]",
      "text/plain": [
       "<Figure size 576x432 with 1 Axes>"
      ]
     },
     "metadata": {
      "needs_background": "light"
     },
     "output_type": "display_data"
    }
   ],
   "source": [
    "fig, ax = plt.subplots(figsize=(8,6));\n",
    "ax.plot(regret_net_with_signals_report[['total_dsic_violation']].rolling(100).mean(), label='RegretWithSignalsNet');\n",
    "ax.plot(regret_net_report[['total_dsic_violation']].rolling(100).mean(), label='RegretNet');\n",
    "ax.legend();"
   ]
  },
  {
   "cell_type": "markdown",
   "metadata": {},
   "source": [
    "As we can see, and not surprisingly, having access to the additional signals improves revenue."
   ]
  },
  {
   "cell_type": "code",
   "execution_count": 22,
   "metadata": {},
   "outputs": [
    {
     "data": {
      "image/png": "[encoded data removed]",
      "text/plain": [
       "<Figure size 576x432 with 1 Axes>"
      ]
     },
     "metadata": {
      "needs_background": "light"
     },
     "output_type": "display_data"
    }
   ],
   "source": [
    "fig, ax = plt.subplots(figsize=(8,6));\n",
    "ax.plot(regret_net_with_signals_report[['revenue']].rolling(100).mean(), label='RegretWithSignalsNet');\n",
    "ax.plot(regret_net_report[['revenue']].rolling(100).mean(), label='RegretNet');\n",
    "ax.legend();"
   ]
  }
 ],
 "metadata": {
  "kernelspec": {
   "display_name": "Python [conda env:auction]",
   "language": "python",
   "name": "conda-env-auction-py"
  },
  "language_info": {
   "codemirror_mode": {
    "name": "ipython",
    "version": 3
   },
   "file_extension": ".py",
   "mimetype": "text/x-python",
   "name": "python",
   "nbconvert_exporter": "python",
   "pygments_lexer": "ipython3",
   "version": "3.6.8"
  }
 },
 "nbformat": 4,
 "nbformat_minor": 2
}
