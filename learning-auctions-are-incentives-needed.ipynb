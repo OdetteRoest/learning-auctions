{
 "cells": [
  {
   "cell_type": "markdown",
   "metadata": {},
   "source": [
    "# Learning Auctions: Are incentives constraints needed in learning?\n",
    "\n",
    "In this tutorial, we will consider whether or not the DSIC violations are essential to learning.  We note that the IR violations are, otherwise the mechanism can simply learn to charge an arbitrarily large positive amount and always allocate the item.  A rational bidder would prefer to not participate in such a market.\n",
    "\n",
    "## Architectures and supporting functions\n",
    "\n",
    "### Preliminaries\n",
    "\n",
    "We will make heavy use of numpy, pandas, and pytorch."
   ]
  },
  {
   "cell_type": "code",
   "execution_count": 1,
   "metadata": {},
   "outputs": [],
   "source": [
    "import numpy as np\n",
    "import pandas as pd\n",
    "\n",
    "import torch\n",
    "import torch.nn as nn\n",
    "import torch.nn.functional as F\n",
    "\n",
    "device = torch.device(\"cuda\") if torch.cuda.is_available() else torch.device('cpu')"
   ]
  },
  {
   "cell_type": "markdown",
   "metadata": {},
   "source": [
    "We will also make use of matplotlib and seaborn for visualization:"
   ]
  },
  {
   "cell_type": "code",
   "execution_count": 2,
   "metadata": {},
   "outputs": [],
   "source": [
    "import matplotlib.pyplot as plt\n",
    "import seaborn as sns\n",
    "%matplotlib inline"
   ]
  },
  {
   "cell_type": "markdown",
   "metadata": {},
   "source": [
    "### Common components\n",
    "\n",
    "All mechanism networks will output allocations and payments.  The allocation shape is `[batch_size, bidders+1]`.  The first column represents the probability that the item is not allocated, with all other columns representing the probability that the item is allocated to the respective bidder.  The payment shape is `[batch_size, bidders]`.  Here each column represents the payment of the respective bidder.\n",
    "\n",
    "We define a generic mechanism as follows:"
   ]
  },
  {
   "cell_type": "code",
   "execution_count": 3,
   "metadata": {},
   "outputs": [],
   "source": [
    "class MechanismNet(nn.Module):\n",
    "    def __init__(self, allocation_rule, payment_rule):\n",
    "        super(MechanismNet, self).__init__()\n",
    "        self.allocation_rule = allocation_rule\n",
    "        self.payment_rule = payment_rule\n",
    "        \n",
    "    def forward(self, x):\n",
    "        allocation = self.allocation_rule(x)\n",
    "        return allocation, allocation[:,1:] * self.payment_rule(x)"
   ]
  },
  {
   "cell_type": "markdown",
   "metadata": {},
   "source": [
    "Utility can thusly be calculated by:"
   ]
  },
  {
   "cell_type": "code",
   "execution_count": 4,
   "metadata": {},
   "outputs": [],
   "source": [
    "def calc_utility(bids, mechanism, valuation=None, output_components=False):\n",
    "    valuation = valuation if valuation is not None else bids\n",
    "    allocation, payment = mechanism(bids)\n",
    "    if output_components:\n",
    "        return allocation[:,1:]*valuation-payment, allocation, payment\n",
    "    else:\n",
    "        return allocation[:,1:]*valuation-payment"
   ]
  },
  {
   "cell_type": "markdown",
   "metadata": {},
   "source": [
    "The `calc_utility` function will return a tensor of shape `[batch_size,bidders]`.\n",
    "\n",
    "In order to determine if a mechanism is (approximately) DSIC, we calculate regret:"
   ]
  },
  {
   "cell_type": "code",
   "execution_count": 5,
   "metadata": {},
   "outputs": [],
   "source": [
    "def calc_regret(values, mechanism, responders, leaky=False):\n",
    "    u_true, a_true, p_true = calc_utility(values, mechanism, output_components=True)\n",
    "    regret = torch.zeros(values.shape).to(device)\n",
    "    for bidder, responder in enumerate(responders):\n",
    "        bidder_mask = torch.zeros(values.shape).to(device)\n",
    "        bidder_mask[:,bidder] = 1.0\n",
    "        response = responder(values, a_true, p_true)\n",
    "        u_response = calc_utility(response, mechanism, values)\n",
    "        if leaky:\n",
    "            regret = regret + F.leaky_relu((u_response - u_true) * bidder_mask)\n",
    "        else:\n",
    "            regret = regret + F.relu((u_response - u_true) * bidder_mask)\n",
    "    return regret.mean(dim=0)"
   ]
  },
  {
   "cell_type": "markdown",
   "metadata": {},
   "source": [
    "Finally, we can define the training function."
   ]
  },
  {
   "cell_type": "code",
   "execution_count": 6,
   "metadata": {},
   "outputs": [],
   "source": [
    "import torch.optim as optim\n",
    "import torch.utils.data as data_utils\n",
    "from tqdm import tqdm\n",
    "\n",
    "def train_without_dsic(mechanism, learning_bidders, values_loader, epochs=1, rho=100):\n",
    "    # Initialize augmented lagrangian parameters\n",
    "    lambda_ir   = torch.zeros(bidders).to(device)\n",
    "\n",
    "    # Initalize the optimizer\n",
    "    mechanism_optimizer = optim.Adam(mechanism.parameters(), lr=1e-4)\n",
    "    bidder_optimizers = [optim.Adam(b.parameters(), lr=1e-3) for b in learning_bidders]\n",
    "    report_data = []\n",
    "\n",
    "    for epoch in tqdm(range(epochs)):\n",
    "        for batch_idx,(values_list) in enumerate(values_loader):\n",
    "            values = values_list[0].to(device)\n",
    "            \n",
    "            bids = values.clone()\n",
    "            for learning_bidder in learning_bidders:\n",
    "                bids = learning_bidder(bids)\n",
    "                \n",
    "            # calculate the utilities and prices\n",
    "            utility, allocation, payment = calc_utility(\n",
    "                bids, mechanism, output_components=True)\n",
    "        \n",
    "            # compute individual rationality violation\n",
    "            ir_violation = F.relu(-utility).mean(dim=0)\n",
    "    \n",
    "            # compute components of the loss function\n",
    "            revenue = payment.sum(dim=-1).mean()\n",
    "            total_ir_violation = ir_violation.sum()\n",
    "    \n",
    "            # Start the gradient computation\n",
    "            mechanism.zero_grad()\n",
    "    \n",
    "            # define the loss \n",
    "            loss = -revenue\\\n",
    "                +(lambda_ir*ir_violation).sum()\\\n",
    "                +0.5*rho*(total_ir_violation.pow(2))\n",
    "    \n",
    "            # Trigger the autogradient calculation\n",
    "            loss.backward()\n",
    "        \n",
    "            # Take a step towards the gradient\n",
    "            mechanism_optimizer.step()\n",
    "            \n",
    "            with torch.no_grad():\n",
    "                mechanism.eval()\n",
    "                u_next = calc_utility(bids, mechanism)\n",
    "                ir_violation_next = F.relu(-u_next).mean(dim=0)\n",
    "                lambda_ir = lambda_ir + rho * ir_violation_next\n",
    "                mechanism.train()\n",
    "            \n",
    "            report_data.append({\n",
    "                'epoch': epoch,\n",
    "                'batch': batch_idx,\n",
    "                'revenue':revenue.item(),\n",
    "                'total_ir_violation':total_ir_violation.item(),\n",
    "                'loss':loss.item()})\n",
    "                \n",
    "            for bidder in range(bidders):\n",
    "                optimizer = bidder_optimizers[bidder]\n",
    "                optimizer.zero_grad()\n",
    "                \n",
    "                bids = values.clone()\n",
    "                for learning_bidder in learning_bidders:\n",
    "                    bids = learning_bidder(bids)\n",
    "                \n",
    "                utility = calc_utility(bids, mechanism, valuation = values)\n",
    "                \n",
    "                (-utility[bidder]).backward()\n",
    "                optimizer.step()\n",
    "            \n",
    "    return pd.DataFrame(report_data)    \n",
    "\n",
    "def train_with_dsic(mechanism, learning_bidders, responders, values_loader, epochs=1, rho=100):\n",
    "    # Initialize augmented lagrangian parameters\n",
    "    lambda_dsic = torch.zeros(bidders).to(device)\n",
    "    lambda_ir   = torch.zeros(bidders).to(device)\n",
    "\n",
    "    # Initalize the optimizer\n",
    "    mechanism_optimizer = optim.Adam(mechanism.parameters(), lr=1e-4)\n",
    "    responder_optimizers = [optim.Adam(r.parameters(), lr=1e-3) for r in responders]\n",
    "    bidder_optimizers = [optim.Adam(b.parameters(), lr=1e-3) for b in learning_bidders]\n",
    "    report_data = []\n",
    "\n",
    "    for epoch in tqdm(range(epochs)):\n",
    "        for batch_idx,(values_list) in enumerate(values_loader):\n",
    "            values = values_list[0].to(device)\n",
    "            \n",
    "            bids = values.clone()\n",
    "            for learning_bidder in learning_bidders:\n",
    "                bids = learning_bidder(bids)\n",
    "                \n",
    "            # calculate the utilities and prices\n",
    "            utility, allocation, payment = calc_utility(\n",
    "                bids, mechanism, output_components=True)\n",
    "    \n",
    "            # compute expected regret \n",
    "            dsic_violation = calc_regret(\n",
    "                bids, \n",
    "                mechanism,\n",
    "                responders)\n",
    "    \n",
    "            # compute individual rationality violation\n",
    "            ir_violation = F.relu(-utility).mean(dim=0)\n",
    "    \n",
    "            # compute components of the loss function\n",
    "            revenue = payment.sum(dim=-1).mean()\n",
    "            total_dsic_violation = dsic_violation.sum()\n",
    "            total_ir_violation = ir_violation.sum()\n",
    "    \n",
    "            # Start the gradient computation\n",
    "            mechanism.zero_grad()\n",
    "    \n",
    "            # define the loss \n",
    "            loss = -revenue\\\n",
    "                +(lambda_dsic*dsic_violation).sum()\\\n",
    "                +(lambda_ir*ir_violation).sum()\\\n",
    "                +0.5*rho*(total_dsic_violation.pow(2)+total_ir_violation.pow(2))\n",
    "    \n",
    "            # Trigger the autogradient calculation\n",
    "            loss.backward()\n",
    "        \n",
    "            # Take a step towards the gradient\n",
    "            mechanism_optimizer.step()\n",
    "            \n",
    "            with torch.no_grad():\n",
    "                mechanism.eval()\n",
    "                for responder in responders:\n",
    "                    responder.eval()\n",
    "                    \n",
    "                # Update the augmented lagrangian parameters\n",
    "                dsic_violation_next = calc_regret(\n",
    "                    bids,\n",
    "                    mechanism,\n",
    "                    responders)\n",
    "                u_next = calc_utility(bids, mechanism)\n",
    "                ir_violation_next = F.relu(-u_next).mean(dim=0)\n",
    "                lambda_dsic = lambda_dsic + rho * dsic_violation_next\n",
    "                lambda_ir = lambda_ir + rho * ir_violation_next\n",
    "                mechanism.train()\n",
    "                for responder in responders:\n",
    "                    responder.train()\n",
    "            \n",
    "            report_data.append({\n",
    "                'epoch': epoch,\n",
    "                'batch': batch_idx,\n",
    "                'revenue':revenue.item(),\n",
    "                'total_dsic_violation':total_dsic_violation.item(),\n",
    "                'total_ir_violation':total_ir_violation.item(),\n",
    "                'loss':loss.item()})\n",
    "            \n",
    "            for bidder, responder in enumerate(responders):\n",
    "                optimizer = responder_optimizers[bidder]\n",
    "                optimizer.zero_grad()\n",
    "                \n",
    "                bids = values.clone()\n",
    "                for learning_bidder in learning_bidders:\n",
    "                    bids = learning_bidder(bids)\n",
    "                    \n",
    "                regret = calc_regret(\n",
    "                    bids, \n",
    "                    mechanism,\n",
    "                    responders,\n",
    "                    leaky=True)\n",
    "                (-regret[bidder]).backward()\n",
    "                optimizer.step()\n",
    "                \n",
    "            for bidder in range(bidders):\n",
    "                optimizer = bidder_optimizers[bidder]\n",
    "                optimizer.zero_grad()\n",
    "                \n",
    "                bids = values.clone()\n",
    "                for learning_bidder in learning_bidders:\n",
    "                    bids = learning_bidder(bids)\n",
    "                \n",
    "                utility = calc_utility(bids, mechanism, valuation = values)\n",
    "                \n",
    "                (-utility[bidder]).backward()\n",
    "                optimizer.step()\n",
    "            \n",
    "    return pd.DataFrame(report_data)     "
   ]
  },
  {
   "cell_type": "markdown",
   "metadata": {},
   "source": [
    "## Learning Bidders\n",
    "\n",
    "The bidding network computes the best bid for the mechanism."
   ]
  },
  {
   "cell_type": "code",
   "execution_count": 7,
   "metadata": {},
   "outputs": [],
   "source": [
    "class LearningBidder(nn.Module):\n",
    "    def __init__(self, bidder, hidden_units):\n",
    "        super(LearningBidder, self).__init__()\n",
    "        self.bidder = bidder\n",
    "        self.initial_layer = nn.Linear(1, hidden_units)\n",
    "        self.hidden_layer = nn.Linear(hidden_units, hidden_units)\n",
    "        self.final_layer = nn.Linear(hidden_units, 1)\n",
    "        \n",
    "    def forward(self, values):\n",
    "        x = values[:,self.bidder].unsqueeze(1)\n",
    "        x = F.leaky_relu(self.initial_layer(x))\n",
    "        x = F.leaky_relu(self.hidden_layer(x))\n",
    "        x = torch.sigmoid(self.final_layer(x))\n",
    "        bidder_mask = torch.zeros(values.shape).to(device)\n",
    "        bidder_mask[:,self.bidder] = 1.0\n",
    "        return (1-bidder_mask)*values + bidder_mask * values * x"
   ]
  },
  {
   "cell_type": "markdown",
   "metadata": {},
   "source": [
    "## Responder\n",
    "\n",
    "The responder network computes the best response to the mechanism."
   ]
  },
  {
   "cell_type": "code",
   "execution_count": 8,
   "metadata": {},
   "outputs": [],
   "source": [
    "class Responder(nn.Module):\n",
    "    def __init__(self, bidder, hidden_units):\n",
    "        super(Responder, self).__init__()\n",
    "        self.bidder = bidder\n",
    "        self.initial_layer = nn.Linear(2, hidden_units)\n",
    "        self.hidden_layer = nn.Linear(hidden_units, hidden_units)\n",
    "        self.final_layer = nn.Linear(hidden_units, 1)\n",
    "        \n",
    "    def forward(self, values, allocation, payment):\n",
    "        x = torch.cat((allocation[:,self.bidder+1].unsqueeze(1), payment[:,self.bidder].unsqueeze(1)), dim=1)\n",
    "        x = F.leaky_relu(self.initial_layer(x))\n",
    "        x = F.leaky_relu(self.hidden_layer(x))\n",
    "        x = torch.sigmoid(self.final_layer(x))\n",
    "        bidder_mask = torch.zeros(values.shape).to(device)\n",
    "        bidder_mask[:,self.bidder] = 1.0\n",
    "        return (1-bidder_mask)*values + bidder_mask * values * x"
   ]
  },
  {
   "cell_type": "markdown",
   "metadata": {},
   "source": [
    "## RegretNet\n",
    "\n",
    "[Dutting et al. (2018)](https://arxiv.org/pdf/1706.03459.pdf) proposed a network of the following form.  We give a pytorch implementation of the network with minor modifications to the activation funtions."
   ]
  },
  {
   "cell_type": "code",
   "execution_count": 9,
   "metadata": {},
   "outputs": [],
   "source": [
    "import torch\n",
    "import torch.nn as nn\n",
    "import torch.nn.functional as F"
   ]
  },
  {
   "cell_type": "markdown",
   "metadata": {},
   "source": [
    "The allocation network is defined as follows:"
   ]
  },
  {
   "cell_type": "code",
   "execution_count": 10,
   "metadata": {},
   "outputs": [],
   "source": [
    "class RegretNetAllocation(nn.Module):\n",
    "    def __init__(self, bidders, hidden_layers, hidden_units):\n",
    "        super(RegretNetAllocation, self).__init__()\n",
    "        assert hidden_layers > 0\n",
    "        fc_layers = []\n",
    "        fc_layers.append(nn.Linear(bidders, hidden_units))\n",
    "        if hidden_layers > 1:\n",
    "            for _ in range(hidden_layers-1):\n",
    "                fc_layers.append(nn.Linear(hidden_units, hidden_units))\n",
    "        fc_layers.append(nn.Linear(hidden_units, bidders+1))\n",
    "        self.fc_layers = nn.ModuleList(fc_layers)\n",
    "        \n",
    "    def forward(self, x):\n",
    "        for layer in self.fc_layers[:-1]:\n",
    "            x = F.leaky_relu(layer(x))\n",
    "        return F.softmax(self.fc_layers[-1](x), dim=1)"
   ]
  },
  {
   "cell_type": "markdown",
   "metadata": {},
   "source": [
    "The payment network is defined as follows:"
   ]
  },
  {
   "cell_type": "code",
   "execution_count": 11,
   "metadata": {},
   "outputs": [],
   "source": [
    "class RegretNetPayment(nn.Module):\n",
    "    def __init__(self, bidders, hidden_layers, hidden_units):\n",
    "        super(RegretNetPayment, self).__init__()\n",
    "        assert hidden_layers > 0\n",
    "        fc_layers = []\n",
    "        fc_layers.append(nn.Linear(bidders, hidden_units))\n",
    "        if hidden_layers > 1:\n",
    "            for _ in range(hidden_layers-1):\n",
    "                fc_layers.append(nn.Linear(hidden_units, hidden_units))\n",
    "        fc_layers.append(nn.Linear(hidden_units, bidders))\n",
    "        self.fc_layers = nn.ModuleList(fc_layers)\n",
    "        \n",
    "    def forward(self, x):\n",
    "        for layer in self.fc_layers:\n",
    "            x = F.leaky_relu(layer(x))\n",
    "        return x"
   ]
  },
  {
   "cell_type": "markdown",
   "metadata": {},
   "source": [
    "Finally, we can define the RegretNet mechanism.  Note that the output activation function used by Dutting et al. was the `relu`.  In the examples below we use `leaky_relu`."
   ]
  },
  {
   "cell_type": "code",
   "execution_count": 12,
   "metadata": {},
   "outputs": [],
   "source": [
    "def create_regret_net(bidders, hidden_layers=2, hidden_units=100):\n",
    "    return MechanismNet(\n",
    "        RegretNetAllocation(bidders, hidden_layers, hidden_units),\n",
    "        RegretNetPayment(bidders, hidden_layers, hidden_units))"
   ]
  },
  {
   "cell_type": "markdown",
   "metadata": {},
   "source": [
    "## Single-Item Auction\n",
    "\n",
    "As in the intro tutorial we consider only a single bidder.  From Myerson (81), we know that the optimal mechanism is a fixed price of 0.5.  Since the bidders values are drawn from uniformly from [0,1], we know that half of the draws will result in the bidder passing on the item, with the other half accepting at a price of 0.5.  Therefore, the optimal expected revenue is 0.25.\n",
    "\n",
    "However, unlike in the previous tutorial, we allow the bidder to learn as well.  The mechanism does not get to observe the values directly."
   ]
  },
  {
   "cell_type": "code",
   "execution_count": 13,
   "metadata": {},
   "outputs": [],
   "source": [
    "bidders = 1"
   ]
  },
  {
   "cell_type": "markdown",
   "metadata": {},
   "source": [
    "The networks will train on data that is sampled from the value distribution, which is loaded into a `DataLoader`."
   ]
  },
  {
   "cell_type": "code",
   "execution_count": 14,
   "metadata": {},
   "outputs": [],
   "source": [
    "sample_size = 2**11\n",
    "batch_size = 2**8\n",
    "\n",
    "values_loader=data_utils.DataLoader(\n",
    "    data_utils.TensorDataset(torch.rand(sample_size, bidders)),\n",
    "    batch_size=batch_size)"
   ]
  },
  {
   "cell_type": "markdown",
   "metadata": {},
   "source": [
    "We consider both the mechanism and responder networks."
   ]
  },
  {
   "cell_type": "code",
   "execution_count": 15,
   "metadata": {},
   "outputs": [],
   "source": [
    "without_regret_net = create_regret_net(bidders).to(device)\n",
    "without_regret_net_bidders = [LearningBidder(bidder, 100).to(device) for bidder in range(bidders)]\n",
    "\n",
    "with_regret_net = create_regret_net(bidders).to(device)\n",
    "with_regret_net_bidders = [LearningBidder(bidder, 100).to(device) for bidder in range(bidders)]\n",
    "with_regret_net_responders = [Responder(bidder, 100).to(device) for bidder in range(bidders)]"
   ]
  },
  {
   "cell_type": "markdown",
   "metadata": {},
   "source": [
    "We loop over the data for a number of epochs and record traces of the networks learning."
   ]
  },
  {
   "cell_type": "code",
   "execution_count": 16,
   "metadata": {},
   "outputs": [
    {
     "name": "stderr",
     "output_type": "stream",
     "text": [
      "100%|██████████| 1000/1000 [01:33<00:00, 19.16it/s]\n",
      "100%|██████████| 1000/1000 [04:42<00:00,  8.54it/s]\n"
     ]
    }
   ],
   "source": [
    "epochs = 1000\n",
    "without_report = train_without_dsic(without_regret_net, without_regret_net_bidders, values_loader, epochs=epochs)\n",
    "with_report = train_with_dsic(with_regret_net, with_regret_net_bidders, with_regret_net_responders, values_loader, epochs=epochs)"
   ]
  },
  {
   "cell_type": "markdown",
   "metadata": {},
   "source": [
    "First, let's review the IR violations of the network.  In the figure below, we can see that RegretNet quickly optimizes to vanishingly small IR violations."
   ]
  },
  {
   "cell_type": "code",
   "execution_count": 17,
   "metadata": {},
   "outputs": [
    {
     "data": {
      "image/png": "[encoded data removed]",
      "text/plain": [
       "<Figure size 576x432 with 1 Axes>"
      ]
     },
     "metadata": {
      "needs_background": "light"
     },
     "output_type": "display_data"
    }
   ],
   "source": [
    "fig, ax = plt.subplots(figsize=(8,6));\n",
    "ax.plot(with_report[['total_ir_violation']].rolling(10).mean(), label='With DSIC');\n",
    "ax.plot(without_report[['total_ir_violation']].rolling(10).mean(), label='Without DSIC');\n",
    "ax.legend();"
   ]
  },
  {
   "cell_type": "markdown",
   "metadata": {},
   "source": [
    "Next, let's review the DSIC violations. RegretNet quickly optimizes to epsilon violations."
   ]
  },
  {
   "cell_type": "code",
   "execution_count": 18,
   "metadata": {},
   "outputs": [
    {
     "data": {
      "image/png": "[encoded data removed]",
      "text/plain": [
       "<Figure size 576x432 with 1 Axes>"
      ]
     },
     "metadata": {
      "needs_background": "light"
     },
     "output_type": "display_data"
    }
   ],
   "source": [
    "fig, ax = plt.subplots(figsize=(8,6));\n",
    "ax.plot(with_report[['total_dsic_violation']].rolling(100).mean(), label='With DSIC');\n",
    "ax.legend();"
   ]
  },
  {
   "cell_type": "markdown",
   "metadata": {},
   "source": [
    "Finally, let's review the revenue.  RegretNet quickly converges to the optimal revenue when DSIC violations are considered and zero when they are not."
   ]
  },
  {
   "cell_type": "code",
   "execution_count": 19,
   "metadata": {},
   "outputs": [
    {
     "data": {
      "image/png": "[encoded data removed]",
      "text/plain": [
       "<Figure size 576x432 with 1 Axes>"
      ]
     },
     "metadata": {
      "needs_background": "light"
     },
     "output_type": "display_data"
    }
   ],
   "source": [
    "fig, ax = plt.subplots(figsize=(8,6));\n",
    "ax.plot(with_report[['revenue']].rolling(100).mean(), label='With DSIC');\n",
    "ax.plot(without_report[['revenue']].rolling(100).mean(), label='Without DSIC');\n",
    "ax.axhline(0.25, c='k', label='Optimal')\n",
    "ax.legend();"
   ]
  },
  {
   "cell_type": "markdown",
   "metadata": {},
   "source": [
    "While we have not shown that DSIC constraints are necessary for learning optimal mechanism, we have shown that the bidder does not quickly learn to shade their bid as in the case of RegretNet learning without DSIC constraints."
   ]
  }
 ],
 "metadata": {
  "kernelspec": {
   "display_name": "Python [conda env:auction]",
   "language": "python",
   "name": "conda-env-auction-py"
  },
  "language_info": {
   "codemirror_mode": {
    "name": "ipython",
    "version": 3
   },
   "file_extension": ".py",
   "mimetype": "text/x-python",
   "name": "python",
   "nbconvert_exporter": "python",
   "pygments_lexer": "ipython3",
   "version": "3.6.8"
  }
 },
 "nbformat": 4,
 "nbformat_minor": 2
}
