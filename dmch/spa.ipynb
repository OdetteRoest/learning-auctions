{
 "cells": [
  {
   "cell_type": "code",
   "execution_count": null,
   "metadata": {},
   "outputs": [],
   "source": [
    "import torch\n",
    "import torch.nn as nn\n",
    "from . import Mechanism\n",
    "from . import from_inputs\n",
    "\n",
    "class _SpaAllocation(nn.Module):\n",
    "    def __init__(self, bidders, kappa=1e4):\n",
    "        super(_SpaAllocation, self).__init__()\n",
    "        self.kappa = kappa\n",
    "        self.bidders = bidders\n",
    "        \n",
    "    def forward(self, x):\n",
    "        bids, _ = from_inputs(x, self.bidders)\n",
    "        device = bids.get_device()\n",
    "        bids_plus_dummy = torch.cat([bids, torch.zeros(bids.shape[0],1).to(device)], dim=1)\n",
    "        return torch.softmax(self.kappa*bids_plus_dummy, dim=1)[:,:-1]\n",
    "\n",
    "class _SpaPayment(nn.Module):\n",
    "    def __init__(self, bidders):\n",
    "        super(_SpaPayment, self).__init__()\n",
    "        self.bidders = bidders\n",
    "    def forward(self, x):\n",
    "        bids, _ = from_inputs(x, self.bidders)\n",
    "        device = x.get_device()\n",
    "        return torch.stack([bids.index_fill(1,torch.tensor([col]).to(device),0).max(dim=1)[0] for col in range(bids.shape[1])], dim=1)\n",
    "    \n",
    "def create_spa_allocator(bidders,kappa=1e4):\n",
    "    return _SpaAllocation(bidders,kappa=kappa)\n",
    "\n",
    "def create_spa_pricer(bidders):\n",
    "    return _SpaPayment(bidders,)\n",
    "\n",
    "def create_spa_mechanism(bidders,kappa=1e4):\n",
    "    return Mechanism(\n",
    "        create_spa_allocator(bidders,kappa=1e4),\n",
    "        create_spa_pricer(bidders))"
   ]
  }
 ],
 "metadata": {
  "kernelspec": {
   "display_name": "Python 3",
   "language": "python",
   "name": "python3"
  },
  "language_info": {
   "name": "python",
   "version": "3.9.7 (v3.9.7:1016ef3790, Aug 30 2021, 16:39:15) \n[Clang 6.0 (clang-600.0.57)]"
  },
  "orig_nbformat": 4,
  "vscode": {
   "interpreter": {
    "hash": "aee8b7b246df8f9039afb4144a1f6fd8d2ca17a180786b69acc140d282b71a49"
   }
  }
 },
 "nbformat": 4,
 "nbformat_minor": 2
}
