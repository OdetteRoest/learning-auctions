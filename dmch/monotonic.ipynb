{
 "cells": [
  {
   "cell_type": "code",
   "execution_count": null,
   "metadata": {},
   "outputs": [],
   "source": [
    "import math\n",
    "\n",
    "import torch\n",
    "import torch.nn as nn\n",
    "from torch.nn import functional as F\n",
    "from torch.nn.parameter import Parameter\n",
    "\n",
    "from .common import from_inputs\n",
    "\n",
    "\n",
    "class _ConstantWeightsAndBiases(nn.Module):\n",
    "    def __init__(self, out_features):\n",
    "        super(_ConstantWeightsAndBiases, self).__init__()\n",
    "        self.weights = Parameter(torch.Tensor(out_features, 1))\n",
    "        self.biases = Parameter(torch.Tensor(out_features, 1))\n",
    "        self.reset_parameters()\n",
    "    \n",
    "    def reset_parameters(self):\n",
    "        nn.init.kaiming_uniform_(self.weights, a=math.sqrt(5))\n",
    "        nn.init.kaiming_uniform_(self.biases, a=math.sqrt(5))\n",
    "        \n",
    "    def forward(self, context):\n",
    "        return self.weights, self.biases\n",
    "    \n",
    "class _VariableWeightsAndBiases(nn.Module):\n",
    "    def __init__(self, in_features, hidden_features, out_features):\n",
    "        super(_VariableWeightsAndBiases, self).__init__()\n",
    "        self.linear = nn.Linear(in_features, hidden_features)\n",
    "        self.weights = nn.Linear(hidden_features, out_features)\n",
    "        self.biases = nn.Linear(hidden_features, out_features)\n",
    "        \n",
    "    def forward(self, x):\n",
    "        x = torch.sigmoid(self.linear(x))\n",
    "        return self.weights(x), self.biases(x)\n",
    "    \n",
    "class Monotonic(nn.Module):\n",
    "    def __init__(self, hidden_features, linear_functions, groups, context_features=0):\n",
    "        super(Monotonic, self).__init__()\n",
    "        self.context_features = context_features\n",
    "        self.linear_functions = linear_functions\n",
    "        self.groups = groups\n",
    "        \n",
    "        if context_features > 0:\n",
    "            self.weights_and_biases = _VariableWeightsAndBiases(context_features, hidden_features, linear_functions * groups)\n",
    "        else:\n",
    "            self.weights_and_biases = _ConstantWeightsAndBiases(linear_functions * groups)\n",
    "        \n",
    "        \n",
    "    def apply_forward(self, bids, context):\n",
    "        w, b = self.weights_and_biases(context)\n",
    "        intermediate = torch.exp(w) * bids + b\n",
    "        return intermediate.reshape(-1, self.groups, self.linear_functions).max(dim=2)[0].min(dim=1, keepdim=True)[0]\n",
    "        \n",
    "    def apply_inverse(self, bids, vbids, context):\n",
    "        w, b = self.weights_and_biases(context)\n",
    "        intermediate = torch.exp(-w) * (vbids - b)\n",
    "        return intermediate.reshape(-1, self.groups, self.linear_functions).min(dim=2)[0].max(dim=1, keepdim=True)[0]\n",
    "            \n",
    "    def forward(self, inputs, bids=None, invert=False):\n",
    "        x, context = from_inputs(inputs,1)\n",
    "        if invert:\n",
    "            return self.apply_inverse(bids, x, context)\n",
    "        else:\n",
    "            return self.apply_forward(x, context)\n",
    "        \n",
    "def create_monotonic(context_features=0, hidden_features=1, linear_functions=1, groups=1):\n",
    "    return Monotonic(hidden_features, linear_functions, groups, context_features=context_features)\n"
   ]
  }
 ],
 "metadata": {
  "kernelspec": {
   "display_name": "Python 3",
   "language": "python",
   "name": "python3"
  },
  "language_info": {
   "name": "python",
   "version": "3.9.7 (v3.9.7:1016ef3790, Aug 30 2021, 16:39:15) \n[Clang 6.0 (clang-600.0.57)]"
  },
  "orig_nbformat": 4,
  "vscode": {
   "interpreter": {
    "hash": "aee8b7b246df8f9039afb4144a1f6fd8d2ca17a180786b69acc140d282b71a49"
   }
  }
 },
 "nbformat": 4,
 "nbformat_minor": 2
}
