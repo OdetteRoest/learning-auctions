{
 "cells": [
  {
   "cell_type": "code",
   "execution_count": 1,
   "metadata": {},
   "outputs": [
    {
     "ename": "ImportError",
     "evalue": "attempted relative import with no known parent package",
     "output_type": "error",
     "traceback": [
      "\u001b[0;31m---------------------------------------------------------------------------\u001b[0m",
      "\u001b[0;31mImportError\u001b[0m                               Traceback (most recent call last)",
      "\u001b[1;32m/Users/odetteroest/Documents/GitHub/RegretNet example/Pjordan/learning-auctions/dmch/sequential.ipynb Cell 1\u001b[0m in \u001b[0;36m<cell line: 4>\u001b[0;34m()\u001b[0m\n\u001b[1;32m      <a href='vscode-notebook-cell:/Users/odetteroest/Documents/GitHub/RegretNet%20example/Pjordan/learning-auctions/dmch/sequential.ipynb#W1sZmlsZQ%3D%3D?line=1'>2</a>\u001b[0m \u001b[39mimport\u001b[39;00m \u001b[39mtorch\u001b[39;00m\u001b[39m.\u001b[39;00m\u001b[39mnn\u001b[39;00m \u001b[39mas\u001b[39;00m \u001b[39mnn\u001b[39;00m\n\u001b[1;32m      <a href='vscode-notebook-cell:/Users/odetteroest/Documents/GitHub/RegretNet%20example/Pjordan/learning-auctions/dmch/sequential.ipynb#W1sZmlsZQ%3D%3D?line=2'>3</a>\u001b[0m \u001b[39mfrom\u001b[39;00m \u001b[39mtorch\u001b[39;00m\u001b[39m.\u001b[39;00m\u001b[39mnn\u001b[39;00m \u001b[39mimport\u001b[39;00m Module\n\u001b[0;32m----> <a href='vscode-notebook-cell:/Users/odetteroest/Documents/GitHub/RegretNet%20example/Pjordan/learning-auctions/dmch/sequential.ipynb#W1sZmlsZQ%3D%3D?line=3'>4</a>\u001b[0m \u001b[39mfrom\u001b[39;00m \u001b[39m.\u001b[39;00m\u001b[39mcommon\u001b[39;00m \u001b[39mimport\u001b[39;00m to_inputs\n\u001b[1;32m      <a href='vscode-notebook-cell:/Users/odetteroest/Documents/GitHub/RegretNet%20example/Pjordan/learning-auctions/dmch/sequential.ipynb#W1sZmlsZQ%3D%3D?line=4'>5</a>\u001b[0m \u001b[39mfrom\u001b[39;00m \u001b[39m.\u001b[39;00m\u001b[39mcommon\u001b[39;00m \u001b[39mimport\u001b[39;00m from_inputs\n\u001b[1;32m      <a href='vscode-notebook-cell:/Users/odetteroest/Documents/GitHub/RegretNet%20example/Pjordan/learning-auctions/dmch/sequential.ipynb#W1sZmlsZQ%3D%3D?line=6'>7</a>\u001b[0m \u001b[39mdef\u001b[39;00m \u001b[39m_dot\u001b[39m(alist,blist):\n",
      "\u001b[0;31mImportError\u001b[0m: attempted relative import with no known parent package"
     ]
    }
   ],
   "source": [
    "import torch\n",
    "import torch.nn as nn\n",
    "from torch.nn import Module\n",
    "from .common import to_inputs\n",
    "from .common import from_inputs\n",
    "\n",
    "def _dot(alist,blist):\n",
    "    return sum(a*b for a,b in zip(alist,blist))\n",
    "\n",
    "def cascade_outcomes(allocators, pricers, inputs, bidders):\n",
    "    bids, context = from_inputs(inputs, bidders)\n",
    "    allocations, prices = [], []\n",
    "    cumulative_allocation = None\n",
    "    prev_allocatinon_prob = None\n",
    "    \n",
    "    for allocator, pricer in zip(allocators, pricers):\n",
    "        slot_inputs = to_inputs(bids, context)\n",
    "        allocation = allocator(slot_inputs)\n",
    "        price = pricer(slot_inputs)\n",
    "        if cumulative_allocation is None:\n",
    "            allocations.append(allocation)\n",
    "            prices.append(price)\n",
    "            cumulative_allocation = allocation\n",
    "            prev_allocation_prob = torch.cat([allocation.sum(dim=1,keepdim=True) for _ in range(bidders)], dim=1)\n",
    "        else:\n",
    "            unconditional_allocation = allocation * (1-cumulative_allocation)*prev_allocation_prob\n",
    "            allocations.append(unconditional_allocation)\n",
    "            prices.append(price)\n",
    "            cumulative_allocation = cumulative_allocation + unconditional_allocation\n",
    "            prev_allocation_prob = torch.cat([unconditional_allocation.sum(dim=1,keepdim=True) for _ in range(bidders)], dim=1)\n",
    "        bids = (1-cumulative_allocation) * bids\n",
    "    return allocations, prices\n",
    "    \n",
    "class SequentialMechanism(Module):\n",
    "    r\"\"\"Determines the allocation and payment of the bidders for a given input that allows sequential allocation.\n",
    "    \n",
    "    Args:\n",
    "        mechanisms: the networks govering allocation\n",
    "        \n",
    "    \"\"\"\n",
    "    def __init__(self, allocators, pricers, bidders, weights=None, virtual_fcn=None):\n",
    "        super(SequentialMechanism, self).__init__()\n",
    "        self.allocators = nn.ModuleList(allocators)\n",
    "        self.pricers = nn.ModuleList(pricers)\n",
    "        self.weights = weights\n",
    "        self.bidders = bidders\n",
    "        self.virtual_fcn = virtual_fcn\n",
    "        \n",
    "    def _compute_virtual_bids(self,bids,context):\n",
    "        return torch.cat(\n",
    "            [self.virtual_fcn(to_inputs(bids[:,i:(i+1)],context)) for i in range(self.bidders)],\n",
    "            dim=1)\n",
    "    \n",
    "    def _compute_prices(self,vprices,bids,context):\n",
    "        return torch.cat(\n",
    "            [self.virtual_fcn(to_inputs(vprices[:,i:(i+1)],context),bids=bids[:,i:(i+1)],invert=True) for i in range(self.bidders)],\n",
    "            dim=1)\n",
    "    \n",
    "    def forward(self, x):\n",
    "        if self.virtual_fcn is None:\n",
    "            allocations, prices = cascade_outcomes(self.allocators, self.pricers, x, self.bidders)\n",
    "        else:\n",
    "            bids, context = from_inputs(x, self.bidders)\n",
    "            vbids = self._compute_virtual_bids(bids, context)\n",
    "            vx = to_inputs(vbids,context)\n",
    "            allocations, vprices = cascade_outcomes(self.allocators, self.pricers, vx, self.bidders)\n",
    "            prices = [self._compute_prices(vprices[i], bids, context) for i in range(len(vprices))]\n",
    "            \n",
    "        payments = [a*p for a,p in zip(allocations, prices)]\n",
    "        if self.weights:\n",
    "            return _dot(self.weights, allocations), _dot(self.weights, payments)\n",
    "        else:\n",
    "            return sum(allocations), sum(payments)"
   ]
  },
  {
   "cell_type": "code",
   "execution_count": null,
   "metadata": {},
   "outputs": [],
   "source": []
  }
 ],
 "metadata": {
  "kernelspec": {
   "display_name": "Python 3",
   "language": "python",
   "name": "python3"
  },
  "language_info": {
   "codemirror_mode": {
    "name": "ipython",
    "version": 3
   },
   "file_extension": ".py",
   "mimetype": "text/x-python",
   "name": "python",
   "nbconvert_exporter": "python",
   "pygments_lexer": "ipython3",
   "version": "3.9.7"
  },
  "orig_nbformat": 4,
  "vscode": {
   "interpreter": {
    "hash": "aee8b7b246df8f9039afb4144a1f6fd8d2ca17a180786b69acc140d282b71a49"
   }
  }
 },
 "nbformat": 4,
 "nbformat_minor": 2
}
