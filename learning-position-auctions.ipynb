{
 "cells": [
  {
   "cell_type": "markdown",
   "metadata": {},
   "source": [
    "# Learning Position Auctions\n",
    "\n",
    "In this tutorial, we will extend the ideas from the [previous tutorial](learning-auctions-interdependence.ipynb).  We will consider position auctions, like those found in paid search marketplaces.\n",
    "\n",
    "## Motivating example\n",
    "\n",
    "Consider a three-bidder, two-slot position auction where the values for the three bidders are correlated.  There is a signal $c\\sim U[0,1]$, which we intepret as a _conversion rate_.  The value of the item for bidder 1 is a random variable $v_1 = x_1 c$ where $x_1 \\sim U[0,1]$, similarly for bidder 2 and bidder 3 with independent $x_i \\sim U[0,1]$.\n",
    "\n",
    "The first slot has a click-through-rate (quality) of 1.  The second slot has a click-through-rate of 0.5.  A bidder may purchase one slot only, so we can consider this a special case of a multi-item, unit-demand scenario.\n",
    "\n",
    "## Architectures and supporting functions\n",
    "\n",
    "As in the previous tutorial, we will make use of ShadeNet.\n",
    "\n",
    "### Preliminaries\n",
    "\n",
    "We will make heavy use of numpy, pandas, and pytorch."
   ]
  },
  {
   "cell_type": "code",
   "execution_count": 1,
   "metadata": {},
   "outputs": [],
   "source": [
    "import numpy as np\n",
    "import pandas as pd\n",
    "\n",
    "import torch\n",
    "import torch.nn as nn\n",
    "import torch.nn.functional as F\n",
    "\n",
    "device = torch.device(\"cuda\") if torch.cuda.is_available() else torch.device('cpu')"
   ]
  },
  {
   "cell_type": "markdown",
   "metadata": {},
   "source": [
    "We will also make use of matplotlib and seaborn for visualization:"
   ]
  },
  {
   "cell_type": "code",
   "execution_count": 2,
   "metadata": {},
   "outputs": [],
   "source": [
    "import matplotlib.pyplot as plt\n",
    "import seaborn as sns\n",
    "%matplotlib inline"
   ]
  },
  {
   "cell_type": "markdown",
   "metadata": {},
   "source": [
    "### Common components\n",
    "\n",
    "All mechanism networks will output allocations and payments.  The allocation shape is `[batch_size, bidders+1]`.  The first column represents the probability that the item is not allocated, with all other columns representing the probability that the item is allocated to the respective bidder.  The payment shape is `[batch_size, bidders]`.  Here each column represents the payment of the respective bidder.\n",
    "\n",
    "We define a generic mechanism as follows:"
   ]
  },
  {
   "cell_type": "code",
   "execution_count": 3,
   "metadata": {},
   "outputs": [],
   "source": [
    "class MechanismNet(nn.Module):\n",
    "    def __init__(self, allocation_rule, payment_rule):\n",
    "        super(MechanismNet, self).__init__()\n",
    "        self.allocation_rule = allocation_rule\n",
    "        self.payment_rule = payment_rule\n",
    "        \n",
    "    def forward(self, x):\n",
    "        allocation = self.allocation_rule(x)\n",
    "        return allocation, allocation*self.payment_rule(x)\n",
    "    \n",
    "    \n",
    "class MechanismWithSignalsNet(nn.Module):\n",
    "    def __init__(self, allocation_rule, payment_rule):\n",
    "        super(MechanismWithSignalsNet, self).__init__()\n",
    "        self.allocation_rule = allocation_rule\n",
    "        self.payment_rule = payment_rule\n",
    "        \n",
    "    def forward(self, x, signals):\n",
    "        allocation = self.allocation_rule(x, signals)\n",
    "        return allocation, allocation*self.payment_rule(x, signals)\n"
   ]
  },
  {
   "cell_type": "markdown",
   "metadata": {},
   "source": [
    "Utility can thusly be calculated by:"
   ]
  },
  {
   "cell_type": "code",
   "execution_count": 4,
   "metadata": {},
   "outputs": [],
   "source": [
    "def calc_utility(bids, mechanism, valuation=None, output_components=False):\n",
    "    valuation = valuation if valuation is not None else bids\n",
    "    allocation, payment = mechanism(bids)\n",
    "    if output_components:\n",
    "        return allocation*valuation-payment, allocation, payment\n",
    "    else:\n",
    "        return allocation*valuation-payment\n",
    "    \n",
    "def calc_utility_with_signals(bids, signals, mechanism, valuation=None, output_components=False):\n",
    "    valuation = valuation if valuation is not None else bids\n",
    "    allocation, payment = mechanism(bids, signals)\n",
    "    if output_components:\n",
    "        return allocation*valuation-payment, allocation, payment\n",
    "    else:\n",
    "        return allocation*valuation-payment"
   ]
  },
  {
   "cell_type": "markdown",
   "metadata": {},
   "source": [
    "The `calc_utility` function will return a tensor of shape `[batch_size,bidders]`.\n",
    "\n",
    "In order to determine if a mechanism is (approximately) DISC, we calculate regret:"
   ]
  },
  {
   "cell_type": "code",
   "execution_count": 5,
   "metadata": {},
   "outputs": [],
   "source": [
    "# Code inspired by https://github.com/saisrivatsan/deep-opt-auctions/blob/master/regretNet/trainer/trainer.py\n",
    "\n",
    "def calc_regret(values, mechanism, misreport_samples=100, region_size=1):\n",
    "    # Extract the basic shapes\n",
    "    batch_size, bidders = values.shape\n",
    "    \n",
    "    # We will generate tensors of the following size\n",
    "    intermediate_shape = [bidders, misreport_samples, batch_size, bidders]\n",
    "    \n",
    "    # Generate multipliers in the range [-1,1)\n",
    "    unit_multipliers = 2.0*torch.rand(intermediate_shape[1:])-1.0\n",
    "    # Enforce that all multipliers are in [max {0, 1-region_size}, 1+region_size]\n",
    "    misreport_multipliers = F.relu(1.0+unit_multipliers*region_size)\n",
    "    \n",
    "    # Use the unilateral_mask to only allow unilateral changes to valuations\n",
    "    unilateral_mask = torch.zeros(intermediate_shape)\n",
    "    unilateral_mask[np.arange(bidders), :, :, np.arange(bidders)] = 1.0\n",
    "    \n",
    "    # Repeat to get a tensor of shape [bidders, misreport_samples, batch_size, bidders]\n",
    "    misreport_multipliers = misreport_multipliers.unsqueeze(0).repeat([bidders, 1, 1, 1])\n",
    "    \n",
    "    # Send to device, if necessary\n",
    "    if device:\n",
    "        unilateral_mask = unilateral_mask.to(device)\n",
    "        misreport_multipliers = misreport_multipliers.to(device)\n",
    "    \n",
    "    # Extend the values to be of shape [bidders, misreport_samples, batch_size, bidders] \n",
    "    values_reshaped = values.repeat([bidders * misreport_samples, 1]).reshape(intermediate_shape)\n",
    "    \n",
    "    # Take the original values and generate \n",
    "    # a misreported value using the multipliers.\n",
    "    misreported_values = values_reshaped * misreport_multipliers\n",
    "    \n",
    "    # Enforce unilateral misreports using the bidder_bask\n",
    "    unilaterally_misreported_values = values_reshaped*(1.0-unilateral_mask)+misreported_values*unilateral_mask\n",
    "    \n",
    "    # Intermediate shape is [batch_size * misreport_samples * bidders, bidders]\n",
    "    # The utility calculation expects data in the shape of [-1, bidders]\n",
    "    exploded_misreported = unilaterally_misreported_values.reshape([-1, bidders])\n",
    "    exploded_values = values_reshaped.reshape([-1, bidders])\n",
    "    \n",
    "    # Calculate utilities\n",
    "    utility_true = calc_utility(exploded_values, mechanism)\n",
    "    utility_misreported = calc_utility(exploded_misreported, mechanism, exploded_values)\n",
    "    \n",
    "    # Misreport gain computation\n",
    "    excess_from_utility = F.relu(utility_misreported - utility_true).reshape(intermediate_shape)*unilateral_mask\n",
    "                                 \n",
    "    # First, calculate the maximum gain from deviation for each bidder.  This is along dim=1.\n",
    "    # Now the shape is [bidders, batch_size, bidders].\n",
    "    # Again, calculate the maximum gain for each bidder.  This is along new dim=2.\n",
    "    # Now the shape is [bidders, batch_size].\n",
    "    # Take the mean across batches.\n",
    "    # The final size should be [bidders].\n",
    "    # Each entry represents the expected regret, per bidder, given the batch sample.\n",
    "    return excess_from_utility.max(dim=1)[0].max(dim=2)[0].mean(dim=1)\n",
    "\n",
    "\n",
    "def calc_regret_with_signals(values, signals, mechanism, misreport_samples=100, region_size=1):\n",
    "    # Extract the basic shapes\n",
    "    batch_size, bidders = values.shape\n",
    "    batch_size_signals, signal_count = signals.shape\n",
    "    assert batch_size == batch_size_signals\n",
    "    \n",
    "    # We will generate tensors of the following size\n",
    "    intermediate_shape = [bidders, misreport_samples, batch_size, bidders]\n",
    "    \n",
    "    # Generate multipliers in the range [-1,1)\n",
    "    unit_multipliers = 2.0*torch.rand(intermediate_shape[1:])-1.0\n",
    "    # Enforce that all multipliers are in [max {0, 1-region_size}, 1+region_size]\n",
    "    misreport_multipliers = F.relu(1.0+unit_multipliers*region_size)\n",
    "    \n",
    "    # Use the unilateral_mask to only allow unilateral changes to valuations\n",
    "    unilateral_mask = torch.zeros(intermediate_shape)\n",
    "    unilateral_mask[np.arange(bidders), :, :, np.arange(bidders)] = 1.0\n",
    "    \n",
    "    # Repeat to get a tensor of shape [bidders, misreport_samples, batch_size, bidders]\n",
    "    misreport_multipliers = misreport_multipliers.unsqueeze(0).repeat([bidders, 1, 1, 1])\n",
    "    \n",
    "    # Send to device, if necessary\n",
    "    if device:\n",
    "        unilateral_mask = unilateral_mask.to(device)\n",
    "        misreport_multipliers = misreport_multipliers.to(device)\n",
    "    \n",
    "    # Extend the values to be of shape [bidders, misreport_samples, batch_size, bidders] \n",
    "    values_reshaped = values.repeat([bidders * misreport_samples, 1]).reshape(intermediate_shape)\n",
    "    \n",
    "    \n",
    "    # Take the original values and generate \n",
    "    # a misreported value using the multipliers.\n",
    "    misreported_values = values_reshaped * misreport_multipliers\n",
    "    \n",
    "    # Enforce unilateral misreports using the bidder_bask\n",
    "    unilaterally_misreported_values = values_reshaped*(1.0-unilateral_mask)+misreported_values*unilateral_mask\n",
    "    \n",
    "    # Intermediate shape is [batch_size * misreport_samples * bidders, bidders]\n",
    "    # The utility calculation expects data in the shape of [-1, bidders]\n",
    "    exploded_misreported = unilaterally_misreported_values.reshape([-1, bidders])\n",
    "    exploded_values = values_reshaped.reshape([-1, bidders])\n",
    "    exploded_signals = signals.repeat([bidders * misreport_samples, 1])\n",
    "    \n",
    "    # Calculate utilities\n",
    "    utility_true = calc_utility_with_signals(exploded_values, exploded_signals, mechanism)\n",
    "    utility_misreported = calc_utility_with_signals(exploded_misreported, exploded_signals, mechanism, exploded_values)\n",
    "    \n",
    "    # Misreport gain computation\n",
    "    excess_from_utility = F.relu(utility_misreported - utility_true).reshape(intermediate_shape)*unilateral_mask\n",
    "                                 \n",
    "    # First, calculate the maximum gain from deviation for each bidder.  This is along dim=1.\n",
    "    # Now the shape is [bidders, batch_size, bidders].\n",
    "    # Again, calculate the maximum gain for each bidder.  This is along new dim=2.\n",
    "    # Now the shape is [bidders, batch_size].\n",
    "    # Take the mean across batches.\n",
    "    # The final size should be [bidders].\n",
    "    # Each entry represents the expected regret, per bidder, given the batch sample.\n",
    "    return excess_from_utility.max(dim=1)[0].max(dim=2)[0].mean(dim=1)"
   ]
  },
  {
   "cell_type": "markdown",
   "metadata": {},
   "source": [
    "Finally, we can define the training function."
   ]
  },
  {
   "cell_type": "code",
   "execution_count": 6,
   "metadata": {},
   "outputs": [],
   "source": [
    "import torch.optim as optim\n",
    "import torch.utils.data as data_utils\n",
    "\n",
    "def train(mechanism, values_loader, epochs=1, misreport_samples=100, region_size=1, rho=1, clipping_norm=None):\n",
    "    # Initialize augmented lagrangian parameters\n",
    "    lambda_dsic = torch.zeros(bidders).to(device)\n",
    "    lambda_ir   = torch.zeros(bidders).to(device)\n",
    "\n",
    "    # Initalize the optimizer\n",
    "    mechanism_optimizer = optim.Adam(mechanism.parameters(), lr=1e-3)\n",
    "\n",
    "    report_data = []\n",
    "\n",
    "    for epoch in range(epochs):\n",
    "        for batch_idx,(values_list) in enumerate(values_loader):\n",
    "            values = values_list[0].to(device)\n",
    "            \n",
    "            # calculate the utilities and prices\n",
    "            utility, allocation, payment = calc_utility(\n",
    "                values, mechanism, output_components=True)\n",
    "    \n",
    "            # compute expected regret \n",
    "            dsic_violation = calc_regret(\n",
    "                values, \n",
    "                mechanism,\n",
    "                misreport_samples=misreport_samples,\n",
    "                region_size=region_size)\n",
    "    \n",
    "            # compute individual rationality violation\n",
    "            ir_violation = F.relu(-utility).mean(dim=0)\n",
    "    \n",
    "            # compute components of the loss function\n",
    "            revenue = payment.sum(dim=-1).mean()\n",
    "            total_dsic_violation = dsic_violation.sum()\n",
    "            total_ir_violation = ir_violation.sum()\n",
    "    \n",
    "            # Start the gradient computation\n",
    "            mechanism.zero_grad()\n",
    "    \n",
    "            # define the loss \n",
    "            loss = -revenue\\\n",
    "                +(lambda_dsic*dsic_violation).sum()\\\n",
    "                +(lambda_ir*ir_violation).sum()\\\n",
    "                +0.5*rho*(total_dsic_violation.pow(2)+total_ir_violation.pow(2))\n",
    "    \n",
    "            # Trigger the autogradient calculation\n",
    "            loss.backward()\n",
    "            \n",
    "            if clipping_norm:\n",
    "                torch.nn.utils.clip_grad_norm_(mechanism.parameters(), clipping_norm)\n",
    "        \n",
    "            # Take a step towards the gradient\n",
    "            mechanism_optimizer.step()\n",
    "    \n",
    "            with torch.no_grad():\n",
    "                mechanism.eval()\n",
    "                # Update the augmented lagrangian parameters\n",
    "                dsic_violation_next = calc_regret(\n",
    "                    values,\n",
    "                    mechanism,\n",
    "                    misreport_samples=misreport_samples,\n",
    "                    region_size=region_size)\n",
    "                u_next = calc_utility(values, mechanism)\n",
    "                ir_violation_next = F.relu(-u_next).mean(dim=0)\n",
    "                lambda_dsic = lambda_dsic + rho * dsic_violation_next\n",
    "                lambda_ir = lambda_ir + rho * ir_violation_next\n",
    "                mechanism.train()\n",
    "            \n",
    "            report_data.append({\n",
    "                'epoch': epoch,\n",
    "                'batch': batch_idx,\n",
    "                'revenue':revenue.item(),\n",
    "                'total_dsic_violation':total_dsic_violation.item(),\n",
    "                'total_ir_violation':total_ir_violation.item(),\n",
    "                'loss':loss.item()})\n",
    "            \n",
    "    return pd.DataFrame(report_data)\n",
    "\n",
    "def train_with_signals(mechanism, values_and_signals_loader, epochs=1, misreport_samples=100, region_size=1, rho=1, clipping_norm=None):\n",
    "    # Initialize augmented lagrangian parameters\n",
    "    lambda_dsic = torch.zeros(bidders).to(device)\n",
    "    lambda_ir   = torch.zeros(bidders).to(device)\n",
    "\n",
    "    # Initalize the optimizer\n",
    "    mechanism_optimizer = optim.Adam(mechanism.parameters(), lr=1e-3)\n",
    "\n",
    "    report_data = []\n",
    "\n",
    "    for epoch in range(epochs):\n",
    "        for batch_idx,(values_list) in enumerate(values_and_signals_loader):\n",
    "            values = values_list[0].to(device)\n",
    "            signals = values_list[1].to(device)\n",
    "            \n",
    "            # calculate the utilities and prices\n",
    "            utility, allocation, payment = calc_utility_with_signals(\n",
    "                values, signals, mechanism, output_components=True)\n",
    "    \n",
    "            # compute expected regret \n",
    "            dsic_violation = calc_regret_with_signals(\n",
    "                values,\n",
    "                signals,\n",
    "                mechanism,\n",
    "                misreport_samples=misreport_samples,\n",
    "                region_size=region_size)\n",
    "    \n",
    "            # compute individual rationality violation\n",
    "            ir_violation = F.relu(-utility).mean(dim=0)\n",
    "    \n",
    "            # compute components of the loss function\n",
    "            revenue = payment.sum(dim=-1).mean()\n",
    "            total_dsic_violation = dsic_violation.sum()\n",
    "            total_ir_violation = ir_violation.sum()\n",
    "    \n",
    "            # Start the gradient computation\n",
    "            mechanism.zero_grad()\n",
    "    \n",
    "            # define the loss \n",
    "            loss = -revenue\\\n",
    "                +(lambda_dsic*dsic_violation).sum()\\\n",
    "                +(lambda_ir*ir_violation).sum()\\\n",
    "                +0.5*rho*(total_dsic_violation.pow(2)+total_ir_violation.pow(2))\n",
    "    \n",
    "            # Trigger the autogradient calculation\n",
    "            loss.backward()\n",
    "            \n",
    "            if clipping_norm:\n",
    "                torch.nn.utils.clip_grad_norm_(mechanism.parameters(), clipping_norm)\n",
    "        \n",
    "            # Take a step towards the gradient\n",
    "            mechanism_optimizer.step()\n",
    "    \n",
    "            with torch.no_grad():\n",
    "                mechanism.eval()\n",
    "                # Update the augmented lagrangian parameters\n",
    "                dsic_violation_next = calc_regret_with_signals(\n",
    "                    values,\n",
    "                    signals,\n",
    "                    mechanism,\n",
    "                    misreport_samples=misreport_samples,\n",
    "                    region_size=region_size)\n",
    "                u_next = calc_utility_with_signals(values, signals, mechanism)\n",
    "                ir_violation_next = F.relu(-u_next).mean(dim=0)\n",
    "                lambda_dsic = lambda_dsic + rho * dsic_violation_next\n",
    "                lambda_ir = lambda_ir + rho * ir_violation_next\n",
    "                mechanism.train()\n",
    "            \n",
    "            report_data.append({\n",
    "                'epoch': epoch,\n",
    "                'batch': batch_idx,\n",
    "                'revenue':revenue.item(),\n",
    "                'total_dsic_violation':total_dsic_violation.item(),\n",
    "                'total_ir_violation':total_ir_violation.item(),\n",
    "                'loss':loss.item()})\n",
    "            \n",
    "    return pd.DataFrame(report_data)"
   ]
  },
  {
   "cell_type": "markdown",
   "metadata": {},
   "source": [
    "Now, we pre-compute the outcomes for each feasible slot configuration using the following number of bidders:"
   ]
  },
  {
   "cell_type": "code",
   "execution_count": 7,
   "metadata": {},
   "outputs": [],
   "source": [
    "bidders = 3\n",
    "slots = 2\n",
    "\n",
    "# Clicks for no-allocation,\n",
    "# Clicks for first slot\n",
    "# Clicks for second slot\n",
    "click_curve = torch.tensor([[0,1, 0.5]]).float().to(device)\n",
    "\n",
    "def bidders_to_index(allocated_bidders):\n",
    "    idx = [0] * bidders\n",
    "    for i,p in enumerate(allocated_bidders):\n",
    "        idx[p] = i+1\n",
    "    return idx\n",
    "\n",
    "all_bidders = set(range(bidders))\n",
    "curve_indices = [[0] * bidders] # initialize to empty slate\n",
    "\n",
    "for b1 in all_bidders:\n",
    "    curve_indices.append(bidders_to_index([b1]))\n",
    "\n",
    "for b1 in all_bidders:\n",
    "    for b2 in all_bidders - set([b1]):\n",
    "        curve_indices.append(bidders_to_index([b1,b2]))\n",
    "\n",
    "outcomes = click_curve[0,curve_indices]\n",
    "outcome_count = outcomes.shape[0]"
   ]
  },
  {
   "cell_type": "markdown",
   "metadata": {},
   "source": [
    "## ShadeNet\n",
    "\n",
    "ShadeNet is a modification to RegretNet that uses a network to compute the bid _shading_ factor to compute payments.  That is, the payment is equal to the product of the bid a factor in [0,1].\n",
    "\n",
    "The allocation network is defined as follows:"
   ]
  },
  {
   "cell_type": "code",
   "execution_count": 8,
   "metadata": {},
   "outputs": [],
   "source": [
    "class ShadeNetAllocation(nn.Module):\n",
    "    def __init__(self, agents, features, hidden_units, act_fn=F.leaky_relu):\n",
    "        super(ShadeNetAllocation, self).__init__()\n",
    "        self.features = features\n",
    "        self.act_fn = act_fn\n",
    "        self.initial_layer = nn.Linear(agents, agents * features)\n",
    "        self.recurrent = nn.LSTM(features, hidden_units, batch_first=True, bidirectional=True)\n",
    "        self.last_layer = nn.Linear(2 * hidden_units * agents, outcome_count)\n",
    "        \n",
    "    def forward(self, x):\n",
    "        batch_size, agents = x.shape\n",
    "        x = self.act_fn(self.initial_layer(x)).view(batch_size, agents, self.features)\n",
    "        output, _ = self.recurrent(x)\n",
    "        output = output.contiguous().view(batch_size, -1)\n",
    "        output = F.softmax(self.last_layer(output), dim=1)\n",
    "        return torch.mm(output,outcomes)\n",
    "    \n",
    "class ShadeWithSignalsNetAllocation(nn.Module):\n",
    "    def __init__(self, agents, signal_count, features, hidden_units, act_fn=F.leaky_relu):\n",
    "        super(ShadeWithSignalsNetAllocation, self).__init__()\n",
    "        self.agents = agents\n",
    "        self.features = features\n",
    "        self.act_fn = act_fn\n",
    "        self.initial_layer = nn.Linear(agents+signal_count, agents * features)\n",
    "        self.recurrent = nn.LSTM(features, hidden_units, batch_first=True, bidirectional=True)\n",
    "        self.last_layer = nn.Linear(2 * hidden_units * agents, outcome_count)\n",
    "        \n",
    "    def forward(self, x, signals):\n",
    "        x = torch.cat((x,signals), dim=1)\n",
    "        batch_size, agents_signals = x.shape\n",
    "        x = self.act_fn(self.initial_layer(x)).view(batch_size, self.agents, self.features)\n",
    "        output, _ = self.recurrent(x)\n",
    "        output = output.contiguous().view(batch_size, -1)\n",
    "        output = F.softmax(self.last_layer(output), dim=1)\n",
    "        return torch.mm(output,outcomes)"
   ]
  },
  {
   "cell_type": "markdown",
   "metadata": {},
   "source": [
    "The payment network is defined as follows:"
   ]
  },
  {
   "cell_type": "code",
   "execution_count": 9,
   "metadata": {},
   "outputs": [],
   "source": [
    "class ShadeNetShader(nn.Module):\n",
    "    def __init__(self, agents, features, hidden_units, act_fn=F.leaky_relu):\n",
    "        super(ShadeNetShader, self).__init__()\n",
    "        self.features = features\n",
    "        self.act_fn = act_fn\n",
    "        self.initial_layer = nn.Linear(agents, agents * features)\n",
    "        self.recurrent = nn.LSTM(features, hidden_units, batch_first=True)\n",
    "        self.last_layer = nn.Linear(hidden_units * agents, agents)\n",
    "        \n",
    "    def forward(self, x):\n",
    "        batch_size, agents = x.shape\n",
    "        x = self.act_fn(self.initial_layer(x)).view(batch_size, agents, self.features)\n",
    "        output, _ = self.recurrent(x) \n",
    "        output = output.contiguous().view(batch_size, -1)\n",
    "        return torch.sigmoid(self.last_layer(output))\n",
    "    \n",
    "class ShadeNetPayment(nn.Module):\n",
    "    def __init__(self, shader):\n",
    "        super(ShadeNetPayment, self).__init__()\n",
    "        self.shader = shader\n",
    "        \n",
    "    def forward(self, x):\n",
    "        return self.shader(x) * x\n",
    "    \n",
    "class ShadeWithSignalsNetShader(nn.Module):\n",
    "    def __init__(self, agents, signal_count, features, hidden_units, act_fn=F.leaky_relu):\n",
    "        super(ShadeWithSignalsNetShader, self).__init__()\n",
    "        self.agents = agents\n",
    "        self.features = features\n",
    "        self.act_fn = act_fn\n",
    "        self.initial_layer = nn.Linear(agents+signal_count, agents * features)\n",
    "        self.recurrent = nn.LSTM(hidden_units, hidden_units, batch_first=True)\n",
    "        self.last_layer = nn.Linear(hidden_units * agents, agents)\n",
    "\n",
    "    def forward(self, x, signals):\n",
    "        x = torch.cat((x,signals), dim=1)\n",
    "        batch_size, agents_signals = x.shape\n",
    "        x = self.act_fn(self.initial_layer(x)).view(batch_size, self.agents, self.features)\n",
    "        output, _ = self.recurrent(x) \n",
    "        output = output.contiguous().view(batch_size, -1)\n",
    "        return torch.sigmoid(self.last_layer(output))\n",
    "    \n",
    "class ShadeWithSignalsNetPayment(nn.Module):\n",
    "    def __init__(self, shader):\n",
    "        super(ShadeWithSignalsNetPayment, self).__init__()\n",
    "        self.shader = shader\n",
    "        \n",
    "    def forward(self, x, signals):\n",
    "        return self.shader(x, signals) * x"
   ]
  },
  {
   "cell_type": "markdown",
   "metadata": {},
   "source": [
    "Finally, we can define the ShadeNet mechanism:"
   ]
  },
  {
   "cell_type": "code",
   "execution_count": 10,
   "metadata": {},
   "outputs": [],
   "source": [
    "def create_shade_net(bidders, features = 100, hidden_units=100, recurrent_calls=5, act_fn=F.leaky_relu):\n",
    "    return MechanismNet(\n",
    "        ShadeNetAllocation(bidders, features, hidden_units, act_fn=act_fn),\n",
    "        ShadeNetPayment(ShadeNetShader(bidders, features, hidden_units, act_fn=act_fn)))\n",
    "\n",
    "def create_shade_net_with_signals(bidders, signal_count, features=100, hidden_units=100, act_fn=F.leaky_relu):\n",
    "    return MechanismWithSignalsNet(\n",
    "        ShadeWithSignalsNetAllocation(bidders, signal_count, features, hidden_units, act_fn=act_fn),\n",
    "        ShadeWithSignalsNetPayment(ShadeWithSignalsNetShader(bidders, signal_count, features, hidden_units, act_fn=act_fn)))\n"
   ]
  },
  {
   "cell_type": "markdown",
   "metadata": {},
   "source": [
    "## Auction for the motivating example\n",
    "\n"
   ]
  },
  {
   "cell_type": "markdown",
   "metadata": {},
   "source": [
    "The networks will train on data that is sampled from the value distribution, which is loaded into a `DataLoader`."
   ]
  },
  {
   "cell_type": "code",
   "execution_count": 11,
   "metadata": {},
   "outputs": [],
   "source": [
    "sample_size = 1000\n",
    "batch_size = 64\n",
    "\n",
    "indepedent_components = torch.rand(sample_size, bidders)\n",
    "common_components = torch.rand(sample_size, 1)\n",
    "values = indepedent_components * common_components\n",
    "\n",
    "values_loader=data_utils.DataLoader(\n",
    "    data_utils.TensorDataset(values),\n",
    "    batch_size=batch_size)\n",
    "\n",
    "values_and_signals_loader=data_utils.DataLoader(\n",
    "    data_utils.TensorDataset(values, common_components),\n",
    "    batch_size=batch_size)"
   ]
  },
  {
   "cell_type": "markdown",
   "metadata": {},
   "source": [
    "Before training the networks, let's establish a GSP baseline."
   ]
  },
  {
   "cell_type": "code",
   "execution_count": 12,
   "metadata": {},
   "outputs": [],
   "source": [
    "gsp_revenue = (click_curve[:,1:3]*torch.sort(values.to(device), dim=1, descending=True)[0][:,1:3]).sum(dim=1).mean().item()"
   ]
  },
  {
   "cell_type": "markdown",
   "metadata": {},
   "source": [
    "We now create a simple ShadeNet and ShadeWithSignalsNet instances."
   ]
  },
  {
   "cell_type": "code",
   "execution_count": 13,
   "metadata": {},
   "outputs": [],
   "source": [
    "shade_net = create_shade_net(bidders).to(device)\n",
    "shade_net_with_signals = create_shade_net_with_signals(bidders, 1).to(device)"
   ]
  },
  {
   "cell_type": "markdown",
   "metadata": {},
   "source": [
    "We loop over the data for a number of epochs and record traces of the networks learning."
   ]
  },
  {
   "cell_type": "code",
   "execution_count": 14,
   "metadata": {},
   "outputs": [],
   "source": [
    "epochs = 100\n",
    "shade_net_report = train(shade_net, values_loader, epochs=epochs)\n",
    "shade_net_with_signals_report = train_with_signals(shade_net_with_signals, values_and_signals_loader, epochs=epochs)"
   ]
  },
  {
   "cell_type": "markdown",
   "metadata": {},
   "source": [
    "Next, let's review the DSIC violations of the network. In the figure below, we can see that networks have a large initial violation then quickly finds a region with low and decreasing violation."
   ]
  },
  {
   "cell_type": "code",
   "execution_count": 15,
   "metadata": {},
   "outputs": [
    {
     "data": {
      "image/png": "[encoded data removed]",
      "text/plain": [
       "<Figure size 576x432 with 1 Axes>"
      ]
     },
     "metadata": {
      "needs_background": "light"
     },
     "output_type": "display_data"
    }
   ],
   "source": [
    "fig, ax = plt.subplots(figsize=(8,6));\n",
    "ax.plot(shade_net_with_signals_report[['total_dsic_violation']].rolling(100).mean(), label='ShadeWithSignalsNet');\n",
    "ax.plot(shade_net_report[['total_dsic_violation']].rolling(100).mean(), label='ShadeNet');\n",
    "ax.legend();"
   ]
  },
  {
   "cell_type": "markdown",
   "metadata": {},
   "source": [
    "Let's review the revenue of the networks.  Both ShadeNet and ShadeWithSignalsNet improve over GSP revenue with minimal DSIC violation."
   ]
  },
  {
   "cell_type": "code",
   "execution_count": 16,
   "metadata": {},
   "outputs": [
    {
     "data": {
      "image/png": "[encoded data removed]",
      "text/plain": [
       "<Figure size 576x432 with 1 Axes>"
      ]
     },
     "metadata": {
      "needs_background": "light"
     },
     "output_type": "display_data"
    }
   ],
   "source": [
    "fig, ax = plt.subplots(figsize=(8,6));\n",
    "ax.plot(shade_net_with_signals_report[['revenue']].rolling(100).mean(), label='ShadeWithSignalsNet');\n",
    "ax.plot(shade_net_report[['revenue']].rolling(100).mean(), label='ShadeNet');\n",
    "ax.axhline(gsp_revenue, c='k', label='GSP')\n",
    "ax.legend();"
   ]
  }
 ],
 "metadata": {
  "kernelspec": {
   "display_name": "Python [conda env:auction]",
   "language": "python",
   "name": "conda-env-auction-py"
  },
  "language_info": {
   "codemirror_mode": {
    "name": "ipython",
    "version": 3
   },
   "file_extension": ".py",
   "mimetype": "text/x-python",
   "name": "python",
   "nbconvert_exporter": "python",
   "pygments_lexer": "ipython3",
   "version": "3.6.8"
  }
 },
 "nbformat": 4,
 "nbformat_minor": 2
}
