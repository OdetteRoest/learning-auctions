{
 "cells": [
  {
   "cell_type": "markdown",
   "metadata": {},
   "source": [
    "# Learning Position Auctions\n",
    "\n",
    "In this tutorial, we will extend the ideas from the [previous tutorial](learning-auctions-interdependence.ipynb).  We will consider position auctions, like those found in paid search marketplaces.\n",
    "\n",
    "## Motivating example\n",
    "\n",
    "Consider a three-bidder, two-slot position auction where the values for the three bidders are correlated.  There is a signal $c\\sim U[0,1]$, which we intepret as a _conversion rate_.  The value of the item for bidder 1 is a random variable $v_1 = x_1 c$ where $x_1 \\sim U[0,1]$, similarly for bidder 2 and bidder 3 with independent $x_i \\sim U[0,1]$.\n",
    "\n",
    "The first slot has a click-through-rate (quality) of 1.  The second slot has a click-through-rate of 0.5.  A bidder may purchase one slot only, so we can consider this a special case of a multi-item, unit-demand scenario.\n",
    "\n",
    "## Architectures and supporting functions\n",
    "\n",
    "As in the previous tutorial, we will make use of RegretNet.\n",
    "\n",
    "### Preliminaries\n",
    "\n",
    "We will make heavy use of numpy, pandas, and pytorch."
   ]
  },
  {
   "cell_type": "code",
   "execution_count": 1,
   "metadata": {},
   "outputs": [],
   "source": [
    "import numpy as np\n",
    "import pandas as pd\n",
    "\n",
    "import torch\n",
    "import torch.nn as nn\n",
    "import torch.nn.functional as F\n",
    "\n",
    "device = torch.device(\"cuda\") if torch.cuda.is_available() else torch.device('cpu')"
   ]
  },
  {
   "cell_type": "markdown",
   "metadata": {},
   "source": [
    "We will also make use of matplotlib and seaborn for visualization:"
   ]
  },
  {
   "cell_type": "code",
   "execution_count": 2,
   "metadata": {},
   "outputs": [],
   "source": [
    "import matplotlib.pyplot as plt\n",
    "import seaborn as sns\n",
    "%matplotlib inline"
   ]
  },
  {
   "cell_type": "markdown",
   "metadata": {},
   "source": [
    "### Common components\n",
    "\n",
    "All mechanism networks will output allocations and payments.  The allocation shape is `[batch_size, bidders]`.  The columns represent the probability that the item is allocated to the respective bidder.  The payment shape is `[batch_size, bidders]`.  Here each column represents the payment of the respective bidder.\n",
    "\n",
    "We define a generic mechanism as follows:"
   ]
  },
  {
   "cell_type": "code",
   "execution_count": 3,
   "metadata": {},
   "outputs": [],
   "source": [
    "class MechanismNet(nn.Module):\n",
    "    def __init__(self, allocation_rule, payment_rule):\n",
    "        super(MechanismNet, self).__init__()\n",
    "        self.allocation_rule = allocation_rule\n",
    "        self.payment_rule = payment_rule\n",
    "        \n",
    "    def forward(self, x, signals):\n",
    "        allocation = self.allocation_rule(x, signals)\n",
    "        return allocation, allocation*self.payment_rule(x, signals)\n"
   ]
  },
  {
   "cell_type": "markdown",
   "metadata": {},
   "source": [
    "We define a position mechanism as a `sequential slot mechanism` as a mechanism where each slot is allocated sequentially to the remaining (non-winning) bidders.  The slot allocations and payments can be weighted with a slot-dependent factor."
   ]
  },
  {
   "cell_type": "code",
   "execution_count": 4,
   "metadata": {},
   "outputs": [],
   "source": [
    "class SequentialSlotMechanismNet(nn.Module):\n",
    "    def __init__(self, slot_mechanisms, slot_weights):\n",
    "        super(SequentialSlotMechanismNet, self).__init__()\n",
    "        assert len(slot_mechanisms) == len(slot_weights)\n",
    "        self.slot_mechanisms = nn.ModuleList(slot_mechanisms)\n",
    "        self.slot_weights = slot_weights\n",
    "        \n",
    "    def forward(self, x, signals):\n",
    "        allocations, payments = [], []\n",
    "        for weight, mechanism in zip(self.slot_weights, self.slot_mechanisms):\n",
    "            allocation, payment = mechanism(x, signals)\n",
    "            allocations.append(weight * allocation)\n",
    "            payments.append(weight * payment)\n",
    "            x = (1-allocation) * x\n",
    "        return sum(allocations), sum(payments)"
   ]
  },
  {
   "cell_type": "markdown",
   "metadata": {},
   "source": [
    "Utility can thusly be calculated by:"
   ]
  },
  {
   "cell_type": "code",
   "execution_count": 5,
   "metadata": {},
   "outputs": [],
   "source": [
    "def calc_utility(bids, signals, mechanism, valuation=None, output_components=False):\n",
    "    valuation = valuation if valuation is not None else bids\n",
    "    allocation, payment = mechanism(bids, signals)\n",
    "    if output_components:\n",
    "        return allocation*valuation-payment, allocation, payment\n",
    "    else:\n",
    "        return allocation*valuation-payment"
   ]
  },
  {
   "cell_type": "markdown",
   "metadata": {},
   "source": [
    "The `calc_utility` function will return a tensor of shape `[batch_size,bidders]`.\n",
    "\n",
    "In order to determine if a mechanism is (approximately) DSIC, we calculate regret:"
   ]
  },
  {
   "cell_type": "code",
   "execution_count": 6,
   "metadata": {},
   "outputs": [],
   "source": [
    "def calc_regret(values, signals, mechanism, responders, leaky=False):\n",
    "    u_true, a_true, p_true = calc_utility(values, signals, mechanism, output_components=True)\n",
    "    regret = torch.zeros(values.shape).to(device)\n",
    "    for bidder, responder in enumerate(responders):\n",
    "        bidder_mask = torch.zeros(values.shape).to(device)\n",
    "        bidder_mask[:,bidder] = 1.0\n",
    "        response = responder(values, a_true, p_true)\n",
    "        u_response = calc_utility(response, signals, mechanism, values)\n",
    "        if leaky:\n",
    "            regret = regret + F.leaky_relu((u_response - u_true) * bidder_mask)\n",
    "        else:\n",
    "            regret = regret + F.relu((u_response - u_true) * bidder_mask)\n",
    "    return regret.mean(dim=0)"
   ]
  },
  {
   "cell_type": "markdown",
   "metadata": {},
   "source": [
    "Finally, we can define the evaluation and training function.  In the evaluation function, the mechanisms are not learning, whereas in the training function they are.  In both cases, the responders are learning and are used to calculate the expected DSIC and IR violations."
   ]
  },
  {
   "cell_type": "code",
   "execution_count": 7,
   "metadata": {},
   "outputs": [],
   "source": [
    "import torch.optim as optim\n",
    "import torch.utils.data as data_utils\n",
    "from tqdm import tqdm\n",
    "\n",
    "\n",
    "def evaluate(mechanism, responders, values_and_signals_loader, epochs=1, rho=100, allowable_dsic_violation=0, allowable_ir_violation=0):\n",
    "    # Initalize the optimizer\n",
    "    responder_optimizers = [optim.Adam(r.parameters(), lr=1e-4) for r in responders]\n",
    "    report_data = []\n",
    "\n",
    "    for epoch in tqdm(range(epochs)):\n",
    "        for batch_idx,(values_list) in enumerate(values_and_signals_loader):\n",
    "            values = values_list[0].to(device)\n",
    "            signals = values_list[1].to(device)\n",
    "            \n",
    "            # calculate the utilities and prices\n",
    "            utility, allocation, payment = calc_utility(\n",
    "                values, signals, mechanism, output_components=True)\n",
    "    \n",
    "            # compute expected regret \n",
    "            dsic_violation = F.relu(calc_regret(\n",
    "                values,\n",
    "                signals,\n",
    "                mechanism,\n",
    "                responders)-allowable_dsic_violation)\n",
    "    \n",
    "            # compute individual rationality violation\n",
    "            ir_violation = F.relu(-utility).mean(dim=0)\n",
    "    \n",
    "            # compute components of the loss function\n",
    "            revenue = payment.sum(dim=-1).mean()\n",
    "            total_dsic_violation = dsic_violation.sum()\n",
    "            total_ir_violation = ir_violation.sum()\n",
    "            \n",
    "            report_data.append({\n",
    "                'epoch': epoch,\n",
    "                'batch': batch_idx,\n",
    "                'revenue':revenue.item(),\n",
    "                'total_dsic_violation':total_dsic_violation.item(),\n",
    "                'total_ir_violation':total_ir_violation.item()})\n",
    "            \n",
    "            for bidder, responder in enumerate(responders):\n",
    "                optimizer = responder_optimizers[bidder]\n",
    "                optimizer.zero_grad()\n",
    "                regret = calc_regret(\n",
    "                    values, \n",
    "                    signals,\n",
    "                    mechanism,\n",
    "                    responders,\n",
    "                    leaky=True)\n",
    "                (-regret[bidder]).backward()\n",
    "                optimizer.step()\n",
    "            \n",
    "    return pd.DataFrame(report_data)\n",
    "\n",
    "def train(mechanism, responders, values_and_signals_loader, epochs=1, rho=100, allowable_dsic_violation=0, allowable_ir_violation=0):\n",
    "    # Initialize augmented lagrangian parameters\n",
    "    lambda_dsic = torch.zeros(bidders).to(device)\n",
    "    lambda_ir   = torch.zeros(bidders).to(device)\n",
    "\n",
    "    # Initalize the optimizer\n",
    "    mechanism_optimizer = optim.Adam(mechanism.parameters(), lr=1e-3)\n",
    "    responder_optimizers = [optim.Adam(r.parameters(), lr=1e-4) for r in responders]\n",
    "    report_data = []\n",
    "\n",
    "    for epoch in tqdm(range(epochs)):\n",
    "        for batch_idx,(values_list) in enumerate(values_and_signals_loader):\n",
    "            values = values_list[0].to(device)\n",
    "            signals = values_list[1].to(device)\n",
    "            \n",
    "            # calculate the utilities and prices\n",
    "            utility, allocation, payment = calc_utility(\n",
    "                values, signals, mechanism, output_components=True)\n",
    "    \n",
    "            # compute expected regret \n",
    "            dsic_violation = F.relu(calc_regret(\n",
    "                values,\n",
    "                signals,\n",
    "                mechanism,\n",
    "                responders)-allowable_dsic_violation)\n",
    "    \n",
    "            # compute individual rationality violation\n",
    "            ir_violation = F.relu(F.relu(-utility)-allowable_ir_violation).mean(dim=0)\n",
    "    \n",
    "            # compute components of the loss function\n",
    "            revenue = payment.sum(dim=-1).mean()\n",
    "            total_dsic_violation = dsic_violation.sum()\n",
    "            total_ir_violation = ir_violation.sum()\n",
    "    \n",
    "            # Start the gradient computation\n",
    "            mechanism.zero_grad()\n",
    "    \n",
    "            # define the loss \n",
    "            loss = -revenue\\\n",
    "                +(lambda_dsic*dsic_violation).sum()\\\n",
    "                +(lambda_ir*ir_violation).sum()\\\n",
    "                +0.5*rho*(total_dsic_violation.pow(2)+total_ir_violation.pow(2))\n",
    "    \n",
    "            # Trigger the autogradient calculation\n",
    "            loss.backward()\n",
    "        \n",
    "            # Take a step towards the gradient\n",
    "            mechanism_optimizer.step()\n",
    "            \n",
    "            with torch.no_grad():\n",
    "                mechanism.eval()\n",
    "                for responder in responders:\n",
    "                    responder.eval()\n",
    "                    \n",
    "                # Update the augmented lagrangian parameters\n",
    "                dsic_violation_next = F.relu(calc_regret(\n",
    "                    values,\n",
    "                    signals,\n",
    "                    mechanism,\n",
    "                    responders)-allowable_dsic_violation)\n",
    "                u_next = calc_utility(values, signals, mechanism)\n",
    "                ir_violation_next = F.relu(F.relu(-u_next)-allowable_ir_violation).mean(dim=0)\n",
    "                lambda_dsic = lambda_dsic + rho * dsic_violation_next\n",
    "                lambda_ir = lambda_ir + rho * ir_violation_next\n",
    "                mechanism.train()\n",
    "                for responder in responders:\n",
    "                    responder.train()\n",
    "            \n",
    "            report_data.append({\n",
    "                'epoch': epoch,\n",
    "                'batch': batch_idx,\n",
    "                'revenue':revenue.item(),\n",
    "                'total_dsic_violation':total_dsic_violation.item(),\n",
    "                'total_ir_violation':total_ir_violation.item(),\n",
    "                'loss':loss.item()})\n",
    "            \n",
    "            for bidder, responder in enumerate(responders):\n",
    "                optimizer = responder_optimizers[bidder]\n",
    "                optimizer.zero_grad()\n",
    "                regret = calc_regret(\n",
    "                    values,\n",
    "                    signals,\n",
    "                    mechanism,\n",
    "                    responders,\n",
    "                    leaky=True)\n",
    "                (-regret[bidder]).backward()\n",
    "                optimizer.step()\n",
    "            \n",
    "    return pd.DataFrame(report_data)   "
   ]
  },
  {
   "cell_type": "markdown",
   "metadata": {},
   "source": [
    "Now we define the auction scenario:"
   ]
  },
  {
   "cell_type": "code",
   "execution_count": 8,
   "metadata": {},
   "outputs": [],
   "source": [
    "# Number of bidders\n",
    "bidders = 3\n",
    "\n",
    "# Pr(click|position)\n",
    "slot_weights = [1, 0.5]\n",
    "\n",
    "# Number of slots\n",
    "slots = len(slot_weights)\n"
   ]
  },
  {
   "cell_type": "markdown",
   "metadata": {},
   "source": [
    "## Responder\n",
    "\n",
    "The responder network computes the best response to the mechanism."
   ]
  },
  {
   "cell_type": "code",
   "execution_count": 9,
   "metadata": {},
   "outputs": [],
   "source": [
    "class Responder(nn.Module):\n",
    "    def __init__(self, bidder, hidden_units):\n",
    "        super(Responder, self).__init__()\n",
    "        self.bidder = bidder\n",
    "        self.initial_layer = nn.Linear(2, hidden_units)\n",
    "        self.hidden_layer = nn.Linear(hidden_units, hidden_units)\n",
    "        self.final_layer = nn.Linear(hidden_units, 1)\n",
    "        \n",
    "    def forward(self, values, allocation, payment):\n",
    "        x = torch.cat((allocation[:,self.bidder].unsqueeze(1), payment[:,self.bidder].unsqueeze(1)), dim=1)\n",
    "        x = F.leaky_relu(self.initial_layer(x))\n",
    "        x = F.leaky_relu(self.hidden_layer(x))\n",
    "        x = torch.sigmoid(self.final_layer(x))\n",
    "        bidder_mask = torch.zeros(values.shape).to(device)\n",
    "        bidder_mask[:,self.bidder] = 1.0\n",
    "        return (1-bidder_mask)*values + bidder_mask * values * x"
   ]
  },
  {
   "cell_type": "markdown",
   "metadata": {},
   "source": [
    "## GSP\n",
    "\n",
    "For comparison, we define the GSP mechanism by using sequantial second-price auctions (SPA):"
   ]
  },
  {
   "cell_type": "code",
   "execution_count": 10,
   "metadata": {},
   "outputs": [],
   "source": [
    "class SpaAllocation(nn.Module):\n",
    "    def __init__(self, kappa=1e4):\n",
    "        super(SpaAllocation, self).__init__()\n",
    "        assert kappa > 0\n",
    "        self.kappa = kappa\n",
    "        \n",
    "    def forward(self, x, signals):\n",
    "        bids_plus_dummy = torch.cat([x, torch.zeros(x.shape[0],1).to(device)], dim=1)\n",
    "        return torch.softmax(self.kappa*bids_plus_dummy, dim=1)[:,:-1]\n",
    "\n",
    "class SpaPayment(nn.Module):\n",
    "    def __init__(self):\n",
    "        super(SpaPayment, self).__init__()\n",
    "        \n",
    "    def forward(self, x, signals):\n",
    "        return torch.stack([x.index_fill(1,torch.tensor([col]).to(device),0).max(dim=1)[0] for col in range(x.shape[1])], dim=1)\n",
    "    \n",
    "def create_spa_mechanism():\n",
    "    return MechanismNet(\n",
    "        SpaAllocation(),\n",
    "        SpaPayment())\n",
    "\n",
    "def create_gsp_mechanism():\n",
    "    return SequentialSlotMechanismNet(\n",
    "        [create_spa_mechanism() for _ in range(len(slot_weights))],\n",
    "        slot_weights)"
   ]
  },
  {
   "cell_type": "markdown",
   "metadata": {},
   "source": [
    "## RegretNet\n",
    "\n",
    "The allocation network is defined as follows:"
   ]
  },
  {
   "cell_type": "code",
   "execution_count": 11,
   "metadata": {},
   "outputs": [],
   "source": [
    "class RegretNetAllocation(nn.Module):\n",
    "    def __init__(self, bidders, signal_count, hidden_layers, hidden_units):\n",
    "        super(RegretNetAllocation, self).__init__()\n",
    "        assert hidden_layers > 0\n",
    "        self.bidders = bidders\n",
    "        fc_layers = []\n",
    "        fc_layers.append(nn.Linear(bidders+signal_count, hidden_units))\n",
    "        if hidden_layers > 1:\n",
    "            for _ in range(hidden_layers-1):\n",
    "                fc_layers.append(nn.Linear(hidden_units, hidden_units))\n",
    "        fc_layers.append(nn.Linear(hidden_units, bidders+1))\n",
    "        self.fc_layers = nn.ModuleList(fc_layers)\n",
    "        \n",
    "    def forward(self, x, signals):\n",
    "        x = torch.cat((x,signals), dim=1)\n",
    "        for layer in self.fc_layers[:-1]:\n",
    "            x = F.leaky_relu(layer(x))\n",
    "        return F.softmax(self.fc_layers[-1](x), dim=1)[:,0:self.bidders]"
   ]
  },
  {
   "cell_type": "markdown",
   "metadata": {},
   "source": [
    "The payment network is defined as follows:"
   ]
  },
  {
   "cell_type": "code",
   "execution_count": 12,
   "metadata": {},
   "outputs": [],
   "source": [
    "class RegretNetPayment(nn.Module):\n",
    "    def __init__(self, bidders, signal_count, hidden_layers, hidden_units):\n",
    "        super(RegretNetPayment, self).__init__()\n",
    "        assert hidden_layers > 0\n",
    "        fc_layers = []\n",
    "        fc_layers.append(nn.Linear(bidders+signal_count, hidden_units))\n",
    "        if hidden_layers > 1:\n",
    "            for _ in range(hidden_layers-1):\n",
    "                fc_layers.append(nn.Linear(hidden_units, hidden_units))\n",
    "        fc_layers.append(nn.Linear(hidden_units, bidders))\n",
    "        self.fc_layers = nn.ModuleList(fc_layers)\n",
    "        \n",
    "    def forward(self, x, signals):\n",
    "        x = torch.cat((x,signals), dim=1)\n",
    "        for layer in self.fc_layers:\n",
    "            x = F.leaky_relu(layer(x))\n",
    "        return x"
   ]
  },
  {
   "cell_type": "markdown",
   "metadata": {},
   "source": [
    "Finally, we can define the RegretNet mechanism:"
   ]
  },
  {
   "cell_type": "code",
   "execution_count": 13,
   "metadata": {},
   "outputs": [],
   "source": [
    "def create_regret_net(bidders, signal_count, hidden_layers=2, hidden_units=100):\n",
    "    return MechanismNet(\n",
    "        RegretNetAllocation(bidders, signal_count, hidden_layers, hidden_units),\n",
    "        RegretNetPayment(bidders, signal_count, hidden_layers, hidden_units))\n",
    "\n",
    "def create_position_regret_net(bidders, signal_count, hidden_layers=2, hidden_units=100):\n",
    "    return SequentialSlotMechanismNet(\n",
    "        [create_regret_net(bidders, signal_count, hidden_layers=hidden_layers, hidden_units=hidden_units) for _ in range(len(slot_weights))],\n",
    "        slot_weights)"
   ]
  },
  {
   "cell_type": "markdown",
   "metadata": {},
   "source": [
    "## Auction for the motivating example\n",
    "\n"
   ]
  },
  {
   "cell_type": "markdown",
   "metadata": {},
   "source": [
    "The networks will train on data that is sampled from the value distribution, which is loaded into a `DataLoader`."
   ]
  },
  {
   "cell_type": "code",
   "execution_count": 14,
   "metadata": {},
   "outputs": [],
   "source": [
    "sample_size = 2**11\n",
    "batch_size = 2**8\n",
    "epochs = 1000\n",
    "\n",
    "indepedent_components = torch.rand(sample_size, bidders)\n",
    "common_components = torch.rand(sample_size, 1)\n",
    "values = indepedent_components * common_components\n",
    "\n",
    "values_and_signals_loader=data_utils.DataLoader(\n",
    "    data_utils.TensorDataset(values, common_components),\n",
    "    batch_size=batch_size)"
   ]
  },
  {
   "cell_type": "markdown",
   "metadata": {},
   "source": [
    "Before training the networks, let's establish a GSP baseline."
   ]
  },
  {
   "cell_type": "code",
   "execution_count": 15,
   "metadata": {},
   "outputs": [
    {
     "name": "stderr",
     "output_type": "stream",
     "text": [
      "100%|██████████| 1000/1000 [10:33<00:00,  1.57it/s]\n"
     ]
    }
   ],
   "source": [
    "gsp_responders = [Responder(bidder, 100).to(device) for bidder in range(bidders)]\n",
    "gsp = create_gsp_mechanism()\n",
    "gsp_report = evaluate(gsp, gsp_responders, values_and_signals_loader, epochs=epochs)"
   ]
  },
  {
   "cell_type": "markdown",
   "metadata": {},
   "source": [
    "We now create a simple RegretNet instance."
   ]
  },
  {
   "cell_type": "code",
   "execution_count": 16,
   "metadata": {},
   "outputs": [],
   "source": [
    "regret_net = create_regret_net(bidders,1).to(device)\n",
    "regret_net_responders = [Responder(bidder, 100).to(device) for bidder in range(bidders)]"
   ]
  },
  {
   "cell_type": "markdown",
   "metadata": {},
   "source": [
    "We loop over the data for a number of epochs and record traces of the networks learning."
   ]
  },
  {
   "cell_type": "code",
   "execution_count": 17,
   "metadata": {},
   "outputs": [
    {
     "name": "stderr",
     "output_type": "stream",
     "text": [
      "100%|██████████| 1000/1000 [11:44<00:00,  1.14it/s]\n"
     ]
    }
   ],
   "source": [
    "regret_net_report = train(regret_net, regret_net_responders, values_and_signals_loader, epochs=epochs)"
   ]
  },
  {
   "cell_type": "markdown",
   "metadata": {},
   "source": [
    "Next, let's review the DSIC violations of the network. In the figure below, we can see that networks have a large initial violation then quickly finds a region with low and decreasing violation."
   ]
  },
  {
   "cell_type": "code",
   "execution_count": 18,
   "metadata": {},
   "outputs": [
    {
     "data": {
      "image/png": "[encoded data removed]",
      "text/plain": [
       "<Figure size 576x432 with 1 Axes>"
      ]
     },
     "metadata": {
      "needs_background": "light"
     },
     "output_type": "display_data"
    }
   ],
   "source": [
    "fig, ax = plt.subplots(figsize=(8,6));\n",
    "ax.plot(gsp_report[['total_dsic_violation']].rolling(100).mean(), label='GSP');\n",
    "ax.plot(regret_net_report[['total_dsic_violation']].rolling(100).mean(), label='RegretNet');\n",
    "ax.legend();"
   ]
  },
  {
   "cell_type": "markdown",
   "metadata": {},
   "source": [
    "Let's review the revenue of the network: RegretNet approaches GSP revenue with less violation."
   ]
  },
  {
   "cell_type": "code",
   "execution_count": 19,
   "metadata": {},
   "outputs": [
    {
     "data": {
      "image/png": "[encoded data removed]",
      "text/plain": [
       "<Figure size 576x432 with 1 Axes>"
      ]
     },
     "metadata": {
      "needs_background": "light"
     },
     "output_type": "display_data"
    }
   ],
   "source": [
    "fig, ax = plt.subplots(figsize=(8,6));\n",
    "ax.plot(gsp_report[['revenue']].rolling(100).mean(), label='GSP');\n",
    "ax.plot(regret_net_report[['revenue']].rolling(100).mean(), label='RegretNet');\n",
    "ax.legend();"
   ]
  },
  {
   "cell_type": "markdown",
   "metadata": {},
   "source": [
    "Let's retain and allow the same violation as GSP has."
   ]
  },
  {
   "cell_type": "code",
   "execution_count": 20,
   "metadata": {},
   "outputs": [],
   "source": [
    "regret_net = create_regret_net(bidders, 1).to(device)\n",
    "regret_net_responders = [Responder(bidder, 100).to(device) for bidder in range(bidders)]"
   ]
  },
  {
   "cell_type": "markdown",
   "metadata": {},
   "source": [
    "Determing the GSP violation, so we can use it as a bound for RegretNet."
   ]
  },
  {
   "cell_type": "code",
   "execution_count": 21,
   "metadata": {},
   "outputs": [],
   "source": [
    "minimim_gsp_violation = gsp_report['total_dsic_violation'].rolling(100).mean().min()"
   ]
  },
  {
   "cell_type": "markdown",
   "metadata": {},
   "source": [
    "Re-train RegetNet with the GSP violation slack."
   ]
  },
  {
   "cell_type": "code",
   "execution_count": 22,
   "metadata": {},
   "outputs": [
    {
     "name": "stderr",
     "output_type": "stream",
     "text": [
      "100%|██████████| 1000/1000 [14:30<00:00,  1.15it/s]\n"
     ]
    }
   ],
   "source": [
    "regret_net_report_with_violation = train(regret_net, regret_net_responders, values_and_signals_loader, epochs=epochs, allowable_dsic_violation=minimim_gsp_violation)"
   ]
  },
  {
   "cell_type": "markdown",
   "metadata": {},
   "source": [
    "Now we see that, with the same violation levels as GSP, RegretNet outperforms in revenue."
   ]
  },
  {
   "cell_type": "code",
   "execution_count": 23,
   "metadata": {},
   "outputs": [
    {
     "data": {
      "image/png": "[encoded data removed]",
      "text/plain": [
       "<Figure size 576x432 with 1 Axes>"
      ]
     },
     "metadata": {
      "needs_background": "light"
     },
     "output_type": "display_data"
    }
   ],
   "source": [
    "fig, ax = plt.subplots(figsize=(8,6));\n",
    "ax.plot(gsp_report[['revenue']].rolling(100).mean(), label='GSP');\n",
    "ax.plot(regret_net_report[['revenue']].rolling(100).mean(), label='RegretNet');\n",
    "ax.plot(regret_net_report_with_violation[['revenue']].rolling(100).mean(), label='RegretNet (GSP violation)');\n",
    "ax.legend();"
   ]
  }
 ],
 "metadata": {
  "kernelspec": {
   "display_name": "Python [conda env:auction]",
   "language": "python",
   "name": "conda-env-auction-py"
  },
  "language_info": {
   "codemirror_mode": {
    "name": "ipython",
    "version": 3
   },
   "file_extension": ".py",
   "mimetype": "text/x-python",
   "name": "python",
   "nbconvert_exporter": "python",
   "pygments_lexer": "ipython3",
   "version": "3.6.8"
  }
 },
 "nbformat": 4,
 "nbformat_minor": 2
}
